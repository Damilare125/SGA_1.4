{
 "cells": [
  {
   "cell_type": "markdown",
   "id": "16567371",
   "metadata": {},
   "source": [
    "# QUESTIONS\n",
    "\n",
    "With the aid of the data provided in the notepad file here, write SQL queries with sqlite that perform the following:\n",
    "\n",
    "1. Create a table named “employee” with columns as:\n",
    "\n",
    "(a) Employee_id (int): Make it the primary key\n",
    "\n",
    "(b) Last_name \n",
    "\n",
    "(c) First_name\n",
    "\n",
    "(d) Position\n",
    "\n",
    "(e) Salary\n",
    "\n",
    "(f) date_hired\n",
    "\n",
    "2. Write a query to get the ‘unique’ Position from employee table\n",
    "3. Write a query to get all employee details from the employee table, order by first_name, in descending order.\n",
    "4. Write a query that returns employees’ first_name, last_name and salary, for salary greater than 200,000.\n",
    "5. One of the employees whose first_name was RUDA got married and changed her last_name to Peter, write a query to effect this change on her last name, thereafter, write a query that returns all her details to enable you view the change made to her name.\n",
    "6. One of the employees with last_name ‘KWAME’ left the organization for another job, write a query that removes his name from the database. View the whole table by writing another query to verify the change that was made to the employee.\n",
    "7. Write a query that renames the column “Position” to “job_role”\n",
    "8. Write a query to get the employee_id, (first_name, last_name), salary in ascending order of salary. Alias the first_name and last_name as “Name”.\n",
    "9. Write a query that gives the count of employees whose salaries are greater than 200,000. [Hint: Use the “COUNT” clause]\n",
    "10. Write a query to get the maximum and minimum salary from the employees table. [Hint: Use the MAX, MIN functions]\n"
   ]
  },
  {
   "cell_type": "markdown",
   "id": "22119dbe",
   "metadata": {},
   "source": [
    "# SOLUTION TO THE QUESTIONS"
   ]
  },
  {
   "cell_type": "code",
   "execution_count": 1,
   "id": "30413a0b",
   "metadata": {},
   "outputs": [
    {
     "name": "stdout",
     "output_type": "stream",
     "text": [
      "Employee table created succefully\n"
     ]
    }
   ],
   "source": [
    "# Import sqlite3\n",
    "import sqlite3\n",
    "\n",
    "# Create a connection to a database\n",
    "conn = sqlite3.connect(\"student.db\")\n",
    "\n",
    "# Create a cursor to execute sql\n",
    "cursor = conn.cursor()\n",
    "\n",
    "# Creating a table named employee\n",
    "sql = \"\"\"\n",
    "CREATE TABLE employee(employee_id INTEGER PRIMARY KEY AUTOINCREMENT,\n",
    "last_name text,\n",
    "first_name text,\n",
    "position text,\n",
    "salary INTEGER,\n",
    "date_hired INTEGER\n",
    ");\n",
    "\"\"\"\n",
    "\n",
    "\n",
    "# # Executing the sql\n",
    "cursor.execute(sql)\n",
    "\n",
    "# Output the query\n",
    "result = cursor.fetchall()\n",
    "result\n",
    "\n",
    "print(\"Employee table created succefully\")"
   ]
  },
  {
   "cell_type": "code",
   "execution_count": 3,
   "id": "cee58fa6",
   "metadata": {},
   "outputs": [
    {
     "ename": "OperationalError",
     "evalue": "table employee already exists",
     "output_type": "error",
     "traceback": [
      "\u001b[1;31m---------------------------------------------------------------------------\u001b[0m",
      "\u001b[1;31mOperationalError\u001b[0m                          Traceback (most recent call last)",
      "Input \u001b[1;32mIn [3]\u001b[0m, in \u001b[0;36m<cell line: 16>\u001b[1;34m()\u001b[0m\n\u001b[0;32m      2\u001b[0m sql \u001b[38;5;241m=\u001b[39m \u001b[38;5;124m\"\"\"\u001b[39m\n\u001b[0;32m      3\u001b[0m \u001b[38;5;124mCREATE TABLE employee(\u001b[39m\n\u001b[0;32m      4\u001b[0m \u001b[38;5;124memployee_id INTEGER PRIMARY KEY AUTOINCREMENT,\u001b[39m\n\u001b[1;32m   (...)\u001b[0m\n\u001b[0;32m     11\u001b[0m \u001b[38;5;124m);\u001b[39m\n\u001b[0;32m     12\u001b[0m \u001b[38;5;124m\"\"\"\u001b[39m\n\u001b[0;32m     15\u001b[0m \u001b[38;5;66;03m# Executing the sql\u001b[39;00m\n\u001b[1;32m---> 16\u001b[0m \u001b[43mcursor\u001b[49m\u001b[38;5;241;43m.\u001b[39;49m\u001b[43mexecute\u001b[49m\u001b[43m(\u001b[49m\u001b[43msql\u001b[49m\u001b[43m)\u001b[49m\n",
      "\u001b[1;31mOperationalError\u001b[0m: table employee already exists"
     ]
    }
   ],
   "source": [
    "# Getting the unique Position from employee table\n",
    "sql = \"\"\"\n",
    "CREATE TABLE employee(\n",
    "employee_id INTEGER PRIMARY KEY AUTOINCREMENT,\n",
    "last_name text,\n",
    "first_name text,\n",
    "position text,\n",
    "salary INTEGER,\n",
    "date_hired INTEGER,\n",
    "UNIQUE (position)\n",
    ");\n",
    "\"\"\"\n",
    "\n",
    "\n",
    "# Executing the sql\n",
    "cursor.execute(sql)"
   ]
  },
  {
   "cell_type": "code",
   "execution_count": 8,
   "id": "b4e4792c",
   "metadata": {},
   "outputs": [
    {
     "name": "stdout",
     "output_type": "stream",
     "text": [
      "We have inserted 62 records to the table\n"
     ]
    }
   ],
   "source": [
    "# Adding the list\n",
    "employee_list = [\n",
    "(1,\"Lew\",\"Allen\",\"City Administrator\",295000,2004),\n",
    "(2,\"Sessoms\",\"Allen\",\"President\",295000,2008),\n",
    "(3,\"HENDERSON\",\"KAYATANYA\",\"Superintendent Of Schools\",275000,2007),\n",
    "(4,\"Lanier\",\"Cathy\",\"Chief\",230743,1990),\n",
    "(5,\"Arons\",\"Bernard\",\"Medical Officer Psych\",206000,2008),\n",
    "(6,\"Ritchie\",\"Elspeth\",\"Medical Officer Psych\",206000,2010),\n",
    "(7,\"GRAY\",\"VINCENT\",\"Mayor\",200000,2005),\n",
    "(8,\"Marshall\",\"Katherine\",\"Medical Officer Psych\",200000,2008),\n",
    "(9,\"Gandhi\",\"Natwar\",\"Chief Financial Officer\",199700,1997),\n",
    "(10,\"DUNCAN\",\"LORETTA\",\"Workers Compensation Recipient\",197808,1984),\n",
    "(11,\"Baxter\",\"Graeme\",\"Act Provost & Vp Acd Aff\",196257,2008),\n",
    "(12,\"Miramontes\",\"David\",\"Medical Director\",193125,2011),\n",
    "(13,\"Graves\",\"Warren\",\"Chief Of Staff\",193125,2011),\n",
    "(14,\"Stanchfield\",\"Eric\",\"Executive Director\",193125,2007),\n",
    "(15,\"Jones\",\"Tyler\",\"Medical Officer Psych\",190550,2008),\n",
    "(16,\"BROWN\",\"KWAME\",\"Chairman\",190000,2005),\n",
    "(17,\"Eure\",\"Philip\",\"Executive Director\",188692,2000),\n",
    "(18,\"Cooper\",\"Ginnie\",\"Executive Director\",188044,2006),\n",
    "(19,\"Yadao\",\"Nilda\",\"Medical Officer (psychiatry)\",188027,1987),\n",
    "(20,\"Ellerbe\",\"Kenneth\",\"Fire Chief\",187302,2003),\n",
    "(21,\"Ruland\",\"Jeffrey\",\"Dir Of The Ctr For Wf Str & Ec\",186911,2009),\n",
    "(22,\"Parker\",\"Craig\",\"General Counsel\",186911,2009),\n",
    "(23,\"Farley\",\"Mark\",\"Vp, Human Resources\",186911,2008),\n",
    "(24,\"Otero\",\"Beatriz\",\"Dep Mayor For Hlth & Hum Svcs\",185000,2011),\n",
    "(25,\"Quander\",\"Paul\",\"Deputy Mayor\",185000,2009),\n",
    "(26,\"Pierre\",\"Louis\",\"Chief Medical Examiner\",185000,1985),\n",
    "(27,\"Pestaner\",\"Joseph\",\"Medical Officer (medical Exami)\",183892,1997),\n",
    "(28,\"Revercomb\",\"Carolyn\",\"Medical Officer (medical Exami)\",183892,2005),\n",
    "(29,\"Morgan\",\"Johnson\",\"Chief Investment Officer\",183677,1991),\n",
    "(30,\"Williamson\",\"Michael\",\"Deputy Director\",182000,2011),\n",
    "(31,\"White\",\"Mattie\",\"Medical Officer (psychiatry)\",180604,1989),\n",
    "(32,\"Park\",\"Kyung\",\"Medical Officer (psychiatry)\",180604,1987),\n",
    "(33,\"Gore\",\"T\",\"Medical Officer (psychiatry)\",172101,2005),\n",
    "(34,\"LUDWIG\",\"BENJAMIN\",\"Workers Compensation Recipient\",171517,1972),\n",
    "(35,\"Atdjian\",\"Sylvia\",\"Medical Officer (psychiatry)\",170938,2007),\n",
    "(36,\"Zaidi\",\"Syed\",\"Medical Officer (psychiatry)\",170344,2005),\n",
    "(37,\"Sherron\",\"Robert\",\"Medical Officer (psychiatry)\",170344,1991),\n",
    "(38,\"Johnson\",\"Nicole\",\"Medical Officer (psychiatry)\",170344,2007),\n",
    "(39,\"RUDA\",\"LISA\",\"Chief Of Staff\",170000,2007),\n",
    "(40,\"Beers\",\"Nathaniel\",\"Deputy Superintendent\",170000,2007),\n",
    "(41,\"Nuss\",\"Laura\",\"Director\",170000,2007),\n",
    "(42,\"Mancini\",\"Robert\",\"Acting Director\",170000,2004),\n",
    "(43,\"Wicker\",\"Henry\",\"Medical Officer Opthal\",168378,1987),\n",
    "(44,\"Davenport\",\"Nancy\",\"Administrative Librarian\",167200,2006),\n",
    "(45,\"Jaji\",\"Abayomi\",\"Medical Officer (psychiatry)\",167062,2000),\n",
    "(46,\"Stevens\",\"KyleeAnn\",\"Medical Officer (psychiatry)\",167051,2008),\n",
    "(47,\"Smothers\",\"Kenneth\",\"Medical Officer (psychiatry)\",166995,1987),\n",
    "(48,\"Akhtar\",\"Saleha\",\"Medical Officer (psychiatry)\",166995,1988),\n",
    "(49,\"Singh\",\"Anjali\",\"Medical Officer (psychiatry)\",166370,1999),\n",
    "(50,\"Rahman\",\"Umar\",\"Medical Officer (psychiatry)\",166370,1996),\n",
    "(51,\"Adewale\",\"Benjamin\",\"Medical Officer (psychiatry)\",166370,1988),\n",
    "(52,\"Zaidi\",\"Syed\",\"Medical Officer General Practi\",165842,1983),\n",
    "(53,\"Jackson\",\"Kenneth\",\"Assistant Fire Chief Srvs\",165306,1982),\n",
    "(54,\"Berns\",\"David\",\"Dir Of Human Services\",165200,2011),\n",
    "(55,\"Cordi\",\"Stephen\",\"Deputy Cfo Otr\",165162,2008),\n",
    "(56,\"Mallory\",\"Lisa\",\"Acting Director\",165000,2004),\n",
    "(57,\"Flowers\",\"Brian\",\"General Counsel\",165000,1985),\n",
    "(58,\"Bellamy\",\"Terry\",\"Director\",165000,2008),\n",
    "(59,\"West\",\"Millicent\",\"Director Homeland Sec & Ema\",165000,2003),\n",
    "(60,\"Pappas\",\"Gregory\",\"Deputy Dir\",164800,2011),\n",
    "(61,\"Altaf\",\"Samia\",\"Supervisor Medical Officer\",164800,2010),\n",
    "(62,\"Owens\",\"Karen\",\"Dental Officer\",164800,1989),\n",
    "\n",
    "]\n",
    "\n",
    "# SQL\n",
    "sql = \"\"\" \n",
    "INSERT INTO employee VALUES(?,?,?,?,?,?)\n",
    "\"\"\"\n",
    " \n",
    "# Executing sql\n",
    "cursor.executemany(sql, employee_list)\n",
    "print(\"We have inserted\", cursor.rowcount,\"records to the table\")"
   ]
  },
  {
   "cell_type": "code",
   "execution_count": 9,
   "id": "09591d9a",
   "metadata": {},
   "outputs": [
    {
     "data": {
      "text/plain": [
       "[(1, 'Lew', 'Allen', 'City Administrator', 295000, 2004),\n",
       " (2, 'Sessoms', 'Allen', 'President', 295000, 2008),\n",
       " (3, 'HENDERSON', 'KAYATANYA', 'Superintendent Of Schools', 275000, 2007),\n",
       " (4, 'Lanier', 'Cathy', 'Chief', 230743, 1990),\n",
       " (5, 'Arons', 'Bernard', 'Medical Officer Psych', 206000, 2008),\n",
       " (6, 'Ritchie', 'Elspeth', 'Medical Officer Psych', 206000, 2010),\n",
       " (7, 'GRAY', 'VINCENT', 'Mayor', 200000, 2005),\n",
       " (8, 'Marshall', 'Katherine', 'Medical Officer Psych', 200000, 2008),\n",
       " (9, 'Gandhi', 'Natwar', 'Chief Financial Officer', 199700, 1997),\n",
       " (10, 'DUNCAN', 'LORETTA', 'Workers Compensation Recipient', 197808, 1984),\n",
       " (11, 'Baxter', 'Graeme', 'Act Provost & Vp Acd Aff', 196257, 2008),\n",
       " (12, 'Miramontes', 'David', 'Medical Director', 193125, 2011),\n",
       " (13, 'Graves', 'Warren', 'Chief Of Staff', 193125, 2011),\n",
       " (14, 'Stanchfield', 'Eric', 'Executive Director', 193125, 2007),\n",
       " (15, 'Jones', 'Tyler', 'Medical Officer Psych', 190550, 2008),\n",
       " (16, 'BROWN', 'KWAME', 'Chairman', 190000, 2005),\n",
       " (17, 'Eure', 'Philip', 'Executive Director', 188692, 2000),\n",
       " (18, 'Cooper', 'Ginnie', 'Executive Director', 188044, 2006),\n",
       " (19, 'Yadao', 'Nilda', 'Medical Officer (psychiatry)', 188027, 1987),\n",
       " (20, 'Ellerbe', 'Kenneth', 'Fire Chief', 187302, 2003),\n",
       " (21, 'Ruland', 'Jeffrey', 'Dir Of The Ctr For Wf Str & Ec', 186911, 2009),\n",
       " (22, 'Parker', 'Craig', 'General Counsel', 186911, 2009),\n",
       " (23, 'Farley', 'Mark', 'Vp, Human Resources', 186911, 2008),\n",
       " (24, 'Otero', 'Beatriz', 'Dep Mayor For Hlth & Hum Svcs', 185000, 2011),\n",
       " (25, 'Quander', 'Paul', 'Deputy Mayor', 185000, 2009),\n",
       " (26, 'Pierre', 'Louis', 'Chief Medical Examiner', 185000, 1985),\n",
       " (27, 'Pestaner', 'Joseph', 'Medical Officer (medical Exami)', 183892, 1997),\n",
       " (28, 'Revercomb', 'Carolyn', 'Medical Officer (medical Exami)', 183892, 2005),\n",
       " (29, 'Morgan', 'Johnson', 'Chief Investment Officer', 183677, 1991),\n",
       " (30, 'Williamson', 'Michael', 'Deputy Director', 182000, 2011),\n",
       " (31, 'White', 'Mattie', 'Medical Officer (psychiatry)', 180604, 1989),\n",
       " (32, 'Park', 'Kyung', 'Medical Officer (psychiatry)', 180604, 1987),\n",
       " (33, 'Gore', 'T', 'Medical Officer (psychiatry)', 172101, 2005),\n",
       " (34, 'LUDWIG', 'BENJAMIN', 'Workers Compensation Recipient', 171517, 1972),\n",
       " (35, 'Atdjian', 'Sylvia', 'Medical Officer (psychiatry)', 170938, 2007),\n",
       " (36, 'Zaidi', 'Syed', 'Medical Officer (psychiatry)', 170344, 2005),\n",
       " (37, 'Sherron', 'Robert', 'Medical Officer (psychiatry)', 170344, 1991),\n",
       " (38, 'Johnson', 'Nicole', 'Medical Officer (psychiatry)', 170344, 2007),\n",
       " (39, 'RUDA', 'LISA', 'Chief Of Staff', 170000, 2007),\n",
       " (40, 'Beers', 'Nathaniel', 'Deputy Superintendent', 170000, 2007),\n",
       " (41, 'Nuss', 'Laura', 'Director', 170000, 2007),\n",
       " (42, 'Mancini', 'Robert', 'Acting Director', 170000, 2004),\n",
       " (43, 'Wicker', 'Henry', 'Medical Officer Opthal', 168378, 1987),\n",
       " (44, 'Davenport', 'Nancy', 'Administrative Librarian', 167200, 2006),\n",
       " (45, 'Jaji', 'Abayomi', 'Medical Officer (psychiatry)', 167062, 2000),\n",
       " (46, 'Stevens', 'KyleeAnn', 'Medical Officer (psychiatry)', 167051, 2008),\n",
       " (47, 'Smothers', 'Kenneth', 'Medical Officer (psychiatry)', 166995, 1987),\n",
       " (48, 'Akhtar', 'Saleha', 'Medical Officer (psychiatry)', 166995, 1988),\n",
       " (49, 'Singh', 'Anjali', 'Medical Officer (psychiatry)', 166370, 1999),\n",
       " (50, 'Rahman', 'Umar', 'Medical Officer (psychiatry)', 166370, 1996),\n",
       " (51, 'Adewale', 'Benjamin', 'Medical Officer (psychiatry)', 166370, 1988),\n",
       " (52, 'Zaidi', 'Syed', 'Medical Officer General Practi', 165842, 1983),\n",
       " (53, 'Jackson', 'Kenneth', 'Assistant Fire Chief Srvs', 165306, 1982),\n",
       " (54, 'Berns', 'David', 'Dir Of Human Services', 165200, 2011),\n",
       " (55, 'Cordi', 'Stephen', 'Deputy Cfo Otr', 165162, 2008),\n",
       " (56, 'Mallory', 'Lisa', 'Acting Director', 165000, 2004),\n",
       " (57, 'Flowers', 'Brian', 'General Counsel', 165000, 1985),\n",
       " (58, 'Bellamy', 'Terry', 'Director', 165000, 2008),\n",
       " (59, 'West', 'Millicent', 'Director Homeland Sec & Ema', 165000, 2003),\n",
       " (60, 'Pappas', 'Gregory', 'Deputy Dir', 164800, 2011),\n",
       " (61, 'Altaf', 'Samia', 'Supervisor Medical Officer', 164800, 2010),\n",
       " (62, 'Owens', 'Karen', 'Dental Officer', 164800, 1989)]"
      ]
     },
     "execution_count": 9,
     "metadata": {},
     "output_type": "execute_result"
    }
   ],
   "source": [
    "# Viewing the employee table\n",
    "sql = \"\"\"\n",
    "SELECT employee_id, last_name, first_name, position, salary, date_hired\n",
    "FROM employee\n",
    "\"\"\"\n",
    "cursor.execute(sql)\n",
    "\n",
    "result = cursor.fetchall()\n",
    "result"
   ]
  },
  {
   "cell_type": "code",
   "execution_count": 10,
   "id": "e7c05a60",
   "metadata": {},
   "outputs": [
    {
     "data": {
      "text/plain": [
       "[(13, 'Graves', 'Warren', 'Chief Of Staff', 193125, 2011),\n",
       " (7, 'GRAY', 'VINCENT', 'Mayor', 200000, 2005),\n",
       " (50, 'Rahman', 'Umar', 'Medical Officer (psychiatry)', 166370, 1996),\n",
       " (15, 'Jones', 'Tyler', 'Medical Officer Psych', 190550, 2008),\n",
       " (58, 'Bellamy', 'Terry', 'Director', 165000, 2008),\n",
       " (33, 'Gore', 'T', 'Medical Officer (psychiatry)', 172101, 2005),\n",
       " (35, 'Atdjian', 'Sylvia', 'Medical Officer (psychiatry)', 170938, 2007),\n",
       " (36, 'Zaidi', 'Syed', 'Medical Officer (psychiatry)', 170344, 2005),\n",
       " (52, 'Zaidi', 'Syed', 'Medical Officer General Practi', 165842, 1983),\n",
       " (55, 'Cordi', 'Stephen', 'Deputy Cfo Otr', 165162, 2008),\n",
       " (61, 'Altaf', 'Samia', 'Supervisor Medical Officer', 164800, 2010),\n",
       " (48, 'Akhtar', 'Saleha', 'Medical Officer (psychiatry)', 166995, 1988),\n",
       " (37, 'Sherron', 'Robert', 'Medical Officer (psychiatry)', 170344, 1991),\n",
       " (42, 'Mancini', 'Robert', 'Acting Director', 170000, 2004),\n",
       " (17, 'Eure', 'Philip', 'Executive Director', 188692, 2000),\n",
       " (25, 'Quander', 'Paul', 'Deputy Mayor', 185000, 2009),\n",
       " (19, 'Yadao', 'Nilda', 'Medical Officer (psychiatry)', 188027, 1987),\n",
       " (38, 'Johnson', 'Nicole', 'Medical Officer (psychiatry)', 170344, 2007),\n",
       " (9, 'Gandhi', 'Natwar', 'Chief Financial Officer', 199700, 1997),\n",
       " (40, 'Beers', 'Nathaniel', 'Deputy Superintendent', 170000, 2007),\n",
       " (44, 'Davenport', 'Nancy', 'Administrative Librarian', 167200, 2006),\n",
       " (59, 'West', 'Millicent', 'Director Homeland Sec & Ema', 165000, 2003),\n",
       " (30, 'Williamson', 'Michael', 'Deputy Director', 182000, 2011),\n",
       " (31, 'White', 'Mattie', 'Medical Officer (psychiatry)', 180604, 1989),\n",
       " (23, 'Farley', 'Mark', 'Vp, Human Resources', 186911, 2008),\n",
       " (26, 'Pierre', 'Louis', 'Chief Medical Examiner', 185000, 1985),\n",
       " (56, 'Mallory', 'Lisa', 'Acting Director', 165000, 2004),\n",
       " (41, 'Nuss', 'Laura', 'Director', 170000, 2007),\n",
       " (10, 'DUNCAN', 'LORETTA', 'Workers Compensation Recipient', 197808, 1984),\n",
       " (39, 'RUDA', 'LISA', 'Chief Of Staff', 170000, 2007),\n",
       " (32, 'Park', 'Kyung', 'Medical Officer (psychiatry)', 180604, 1987),\n",
       " (46, 'Stevens', 'KyleeAnn', 'Medical Officer (psychiatry)', 167051, 2008),\n",
       " (20, 'Ellerbe', 'Kenneth', 'Fire Chief', 187302, 2003),\n",
       " (47, 'Smothers', 'Kenneth', 'Medical Officer (psychiatry)', 166995, 1987),\n",
       " (53, 'Jackson', 'Kenneth', 'Assistant Fire Chief Srvs', 165306, 1982),\n",
       " (8, 'Marshall', 'Katherine', 'Medical Officer Psych', 200000, 2008),\n",
       " (62, 'Owens', 'Karen', 'Dental Officer', 164800, 1989),\n",
       " (16, 'BROWN', 'KWAME', 'Chairman', 190000, 2005),\n",
       " (3, 'HENDERSON', 'KAYATANYA', 'Superintendent Of Schools', 275000, 2007),\n",
       " (27, 'Pestaner', 'Joseph', 'Medical Officer (medical Exami)', 183892, 1997),\n",
       " (29, 'Morgan', 'Johnson', 'Chief Investment Officer', 183677, 1991),\n",
       " (21, 'Ruland', 'Jeffrey', 'Dir Of The Ctr For Wf Str & Ec', 186911, 2009),\n",
       " (43, 'Wicker', 'Henry', 'Medical Officer Opthal', 168378, 1987),\n",
       " (60, 'Pappas', 'Gregory', 'Deputy Dir', 164800, 2011),\n",
       " (11, 'Baxter', 'Graeme', 'Act Provost & Vp Acd Aff', 196257, 2008),\n",
       " (18, 'Cooper', 'Ginnie', 'Executive Director', 188044, 2006),\n",
       " (14, 'Stanchfield', 'Eric', 'Executive Director', 193125, 2007),\n",
       " (6, 'Ritchie', 'Elspeth', 'Medical Officer Psych', 206000, 2010),\n",
       " (12, 'Miramontes', 'David', 'Medical Director', 193125, 2011),\n",
       " (54, 'Berns', 'David', 'Dir Of Human Services', 165200, 2011),\n",
       " (22, 'Parker', 'Craig', 'General Counsel', 186911, 2009),\n",
       " (4, 'Lanier', 'Cathy', 'Chief', 230743, 1990),\n",
       " (28, 'Revercomb', 'Carolyn', 'Medical Officer (medical Exami)', 183892, 2005),\n",
       " (57, 'Flowers', 'Brian', 'General Counsel', 165000, 1985),\n",
       " (5, 'Arons', 'Bernard', 'Medical Officer Psych', 206000, 2008),\n",
       " (51, 'Adewale', 'Benjamin', 'Medical Officer (psychiatry)', 166370, 1988),\n",
       " (24, 'Otero', 'Beatriz', 'Dep Mayor For Hlth & Hum Svcs', 185000, 2011),\n",
       " (34, 'LUDWIG', 'BENJAMIN', 'Workers Compensation Recipient', 171517, 1972),\n",
       " (49, 'Singh', 'Anjali', 'Medical Officer (psychiatry)', 166370, 1999),\n",
       " (1, 'Lew', 'Allen', 'City Administrator', 295000, 2004),\n",
       " (2, 'Sessoms', 'Allen', 'President', 295000, 2008),\n",
       " (45, 'Jaji', 'Abayomi', 'Medical Officer (psychiatry)', 167062, 2000)]"
      ]
     },
     "execution_count": 10,
     "metadata": {},
     "output_type": "execute_result"
    }
   ],
   "source": [
    "# Getting employee details from the employee table, order by first_name, in descending order.\n",
    "sql = \"\"\" \n",
    "SELECT * FROM employee\n",
    "ORDER BY first_name DESC;\n",
    "\"\"\"\n",
    "\n",
    "cursor.execute(sql)\n",
    "\n",
    "result = cursor.fetchall()\n",
    "result"
   ]
  },
  {
   "cell_type": "code",
   "execution_count": 11,
   "id": "9f5ad6bd",
   "metadata": {},
   "outputs": [
    {
     "data": {
      "text/plain": [
       "[(1, 'Lew', 'Allen', 'City Administrator', 295000, 2004),\n",
       " (2, 'Sessoms', 'Allen', 'President', 295000, 2008),\n",
       " (3, 'HENDERSON', 'KAYATANYA', 'Superintendent Of Schools', 275000, 2007),\n",
       " (4, 'Lanier', 'Cathy', 'Chief', 230743, 1990),\n",
       " (5, 'Arons', 'Bernard', 'Medical Officer Psych', 206000, 2008),\n",
       " (6, 'Ritchie', 'Elspeth', 'Medical Officer Psych', 206000, 2010),\n",
       " (7, 'GRAY', 'VINCENT', 'Mayor', 200000, 2005),\n",
       " (8, 'Marshall', 'Katherine', 'Medical Officer Psych', 200000, 2008)]"
      ]
     },
     "execution_count": 11,
     "metadata": {},
     "output_type": "execute_result"
    }
   ],
   "source": [
    "# Returning employees’ first_name, last_name and salary, for salary greater than 200,000.\n",
    "\n",
    "sql = \"\"\"\n",
    "SELECT * FROM employee\n",
    "WHERE salary >= 200000\n",
    "\"\"\"\n",
    "\n",
    "cursor.execute(sql)\n",
    "\n",
    "result = cursor.fetchall()\n",
    "result"
   ]
  },
  {
   "cell_type": "code",
   "execution_count": 12,
   "id": "9fb6799e",
   "metadata": {},
   "outputs": [
    {
     "name": "stdout",
     "output_type": "stream",
     "text": [
      "Name was succefully changed\n"
     ]
    }
   ],
   "source": [
    "# Updating the table in the database\n",
    "sql = \"\"\"\n",
    "UPDATE employee\n",
    "SET last_name = \"PETER\"\n",
    "WHERE rowid = 39\n",
    "\"\"\"\n",
    "\n",
    "cursor.execute(sql)\n",
    "\n",
    "result = cursor.fetchall()\n",
    "result\n",
    "print(\"Name was succefully changed\")"
   ]
  },
  {
   "cell_type": "code",
   "execution_count": 13,
   "id": "ef968724",
   "metadata": {},
   "outputs": [
    {
     "data": {
      "text/plain": [
       "[(1, 'Lew', 'Allen', 'City Administrator', 295000, 2004),\n",
       " (2, 'Sessoms', 'Allen', 'President', 295000, 2008),\n",
       " (3, 'HENDERSON', 'KAYATANYA', 'Superintendent Of Schools', 275000, 2007),\n",
       " (4, 'Lanier', 'Cathy', 'Chief', 230743, 1990),\n",
       " (5, 'Arons', 'Bernard', 'Medical Officer Psych', 206000, 2008),\n",
       " (6, 'Ritchie', 'Elspeth', 'Medical Officer Psych', 206000, 2010),\n",
       " (7, 'GRAY', 'VINCENT', 'Mayor', 200000, 2005),\n",
       " (8, 'Marshall', 'Katherine', 'Medical Officer Psych', 200000, 2008),\n",
       " (9, 'Gandhi', 'Natwar', 'Chief Financial Officer', 199700, 1997),\n",
       " (10, 'DUNCAN', 'LORETTA', 'Workers Compensation Recipient', 197808, 1984),\n",
       " (11, 'Baxter', 'Graeme', 'Act Provost & Vp Acd Aff', 196257, 2008),\n",
       " (12, 'Miramontes', 'David', 'Medical Director', 193125, 2011),\n",
       " (13, 'Graves', 'Warren', 'Chief Of Staff', 193125, 2011),\n",
       " (14, 'Stanchfield', 'Eric', 'Executive Director', 193125, 2007),\n",
       " (15, 'Jones', 'Tyler', 'Medical Officer Psych', 190550, 2008),\n",
       " (16, 'BROWN', 'KWAME', 'Chairman', 190000, 2005),\n",
       " (17, 'Eure', 'Philip', 'Executive Director', 188692, 2000),\n",
       " (18, 'Cooper', 'Ginnie', 'Executive Director', 188044, 2006),\n",
       " (19, 'Yadao', 'Nilda', 'Medical Officer (psychiatry)', 188027, 1987),\n",
       " (20, 'Ellerbe', 'Kenneth', 'Fire Chief', 187302, 2003),\n",
       " (21, 'Ruland', 'Jeffrey', 'Dir Of The Ctr For Wf Str & Ec', 186911, 2009),\n",
       " (22, 'Parker', 'Craig', 'General Counsel', 186911, 2009),\n",
       " (23, 'Farley', 'Mark', 'Vp, Human Resources', 186911, 2008),\n",
       " (24, 'Otero', 'Beatriz', 'Dep Mayor For Hlth & Hum Svcs', 185000, 2011),\n",
       " (25, 'Quander', 'Paul', 'Deputy Mayor', 185000, 2009),\n",
       " (26, 'Pierre', 'Louis', 'Chief Medical Examiner', 185000, 1985),\n",
       " (27, 'Pestaner', 'Joseph', 'Medical Officer (medical Exami)', 183892, 1997),\n",
       " (28, 'Revercomb', 'Carolyn', 'Medical Officer (medical Exami)', 183892, 2005),\n",
       " (29, 'Morgan', 'Johnson', 'Chief Investment Officer', 183677, 1991),\n",
       " (30, 'Williamson', 'Michael', 'Deputy Director', 182000, 2011),\n",
       " (31, 'White', 'Mattie', 'Medical Officer (psychiatry)', 180604, 1989),\n",
       " (32, 'Park', 'Kyung', 'Medical Officer (psychiatry)', 180604, 1987),\n",
       " (33, 'Gore', 'T', 'Medical Officer (psychiatry)', 172101, 2005),\n",
       " (34, 'LUDWIG', 'BENJAMIN', 'Workers Compensation Recipient', 171517, 1972),\n",
       " (35, 'Atdjian', 'Sylvia', 'Medical Officer (psychiatry)', 170938, 2007),\n",
       " (36, 'Zaidi', 'Syed', 'Medical Officer (psychiatry)', 170344, 2005),\n",
       " (37, 'Sherron', 'Robert', 'Medical Officer (psychiatry)', 170344, 1991),\n",
       " (38, 'Johnson', 'Nicole', 'Medical Officer (psychiatry)', 170344, 2007),\n",
       " (39, 'PETER', 'LISA', 'Chief Of Staff', 170000, 2007),\n",
       " (40, 'Beers', 'Nathaniel', 'Deputy Superintendent', 170000, 2007),\n",
       " (41, 'Nuss', 'Laura', 'Director', 170000, 2007),\n",
       " (42, 'Mancini', 'Robert', 'Acting Director', 170000, 2004),\n",
       " (43, 'Wicker', 'Henry', 'Medical Officer Opthal', 168378, 1987),\n",
       " (44, 'Davenport', 'Nancy', 'Administrative Librarian', 167200, 2006),\n",
       " (45, 'Jaji', 'Abayomi', 'Medical Officer (psychiatry)', 167062, 2000),\n",
       " (46, 'Stevens', 'KyleeAnn', 'Medical Officer (psychiatry)', 167051, 2008),\n",
       " (47, 'Smothers', 'Kenneth', 'Medical Officer (psychiatry)', 166995, 1987),\n",
       " (48, 'Akhtar', 'Saleha', 'Medical Officer (psychiatry)', 166995, 1988),\n",
       " (49, 'Singh', 'Anjali', 'Medical Officer (psychiatry)', 166370, 1999),\n",
       " (50, 'Rahman', 'Umar', 'Medical Officer (psychiatry)', 166370, 1996),\n",
       " (51, 'Adewale', 'Benjamin', 'Medical Officer (psychiatry)', 166370, 1988),\n",
       " (52, 'Zaidi', 'Syed', 'Medical Officer General Practi', 165842, 1983),\n",
       " (53, 'Jackson', 'Kenneth', 'Assistant Fire Chief Srvs', 165306, 1982),\n",
       " (54, 'Berns', 'David', 'Dir Of Human Services', 165200, 2011),\n",
       " (55, 'Cordi', 'Stephen', 'Deputy Cfo Otr', 165162, 2008),\n",
       " (56, 'Mallory', 'Lisa', 'Acting Director', 165000, 2004),\n",
       " (57, 'Flowers', 'Brian', 'General Counsel', 165000, 1985),\n",
       " (58, 'Bellamy', 'Terry', 'Director', 165000, 2008),\n",
       " (59, 'West', 'Millicent', 'Director Homeland Sec & Ema', 165000, 2003),\n",
       " (60, 'Pappas', 'Gregory', 'Deputy Dir', 164800, 2011),\n",
       " (61, 'Altaf', 'Samia', 'Supervisor Medical Officer', 164800, 2010),\n",
       " (62, 'Owens', 'Karen', 'Dental Officer', 164800, 1989)]"
      ]
     },
     "execution_count": 13,
     "metadata": {},
     "output_type": "execute_result"
    }
   ],
   "source": [
    "# Viewing the employee table\n",
    "sql = \"\"\"\n",
    "SELECT employee_id, last_name, first_name, position, salary, date_hired\n",
    "FROM employee\n",
    "\"\"\"\n",
    "cursor.execute(sql)\n",
    "\n",
    "result = cursor.fetchall()\n",
    "result"
   ]
  },
  {
   "cell_type": "code",
   "execution_count": 14,
   "id": "d04bfb1f",
   "metadata": {},
   "outputs": [
    {
     "data": {
      "text/plain": [
       "[]"
      ]
     },
     "execution_count": 14,
     "metadata": {},
     "output_type": "execute_result"
    }
   ],
   "source": [
    "sql = \"\"\"\n",
    "DELETE \n",
    "FROM employee\n",
    "WHERE employee_id = 16;\n",
    "\"\"\"\n",
    "\n",
    "cursor.execute(sql)\n",
    "result = cursor.fetchall()\n",
    "result"
   ]
  },
  {
   "cell_type": "code",
   "execution_count": 15,
   "id": "1f97c51b",
   "metadata": {},
   "outputs": [
    {
     "data": {
      "text/plain": [
       "[(1, 'Lew', 'Allen', 'City Administrator', 295000, 2004),\n",
       " (2, 'Sessoms', 'Allen', 'President', 295000, 2008),\n",
       " (3, 'HENDERSON', 'KAYATANYA', 'Superintendent Of Schools', 275000, 2007),\n",
       " (4, 'Lanier', 'Cathy', 'Chief', 230743, 1990),\n",
       " (5, 'Arons', 'Bernard', 'Medical Officer Psych', 206000, 2008),\n",
       " (6, 'Ritchie', 'Elspeth', 'Medical Officer Psych', 206000, 2010),\n",
       " (7, 'GRAY', 'VINCENT', 'Mayor', 200000, 2005),\n",
       " (8, 'Marshall', 'Katherine', 'Medical Officer Psych', 200000, 2008),\n",
       " (9, 'Gandhi', 'Natwar', 'Chief Financial Officer', 199700, 1997),\n",
       " (10, 'DUNCAN', 'LORETTA', 'Workers Compensation Recipient', 197808, 1984),\n",
       " (11, 'Baxter', 'Graeme', 'Act Provost & Vp Acd Aff', 196257, 2008),\n",
       " (12, 'Miramontes', 'David', 'Medical Director', 193125, 2011),\n",
       " (13, 'Graves', 'Warren', 'Chief Of Staff', 193125, 2011),\n",
       " (14, 'Stanchfield', 'Eric', 'Executive Director', 193125, 2007),\n",
       " (15, 'Jones', 'Tyler', 'Medical Officer Psych', 190550, 2008),\n",
       " (17, 'Eure', 'Philip', 'Executive Director', 188692, 2000),\n",
       " (18, 'Cooper', 'Ginnie', 'Executive Director', 188044, 2006),\n",
       " (19, 'Yadao', 'Nilda', 'Medical Officer (psychiatry)', 188027, 1987),\n",
       " (20, 'Ellerbe', 'Kenneth', 'Fire Chief', 187302, 2003),\n",
       " (21, 'Ruland', 'Jeffrey', 'Dir Of The Ctr For Wf Str & Ec', 186911, 2009),\n",
       " (22, 'Parker', 'Craig', 'General Counsel', 186911, 2009),\n",
       " (23, 'Farley', 'Mark', 'Vp, Human Resources', 186911, 2008),\n",
       " (24, 'Otero', 'Beatriz', 'Dep Mayor For Hlth & Hum Svcs', 185000, 2011),\n",
       " (25, 'Quander', 'Paul', 'Deputy Mayor', 185000, 2009),\n",
       " (26, 'Pierre', 'Louis', 'Chief Medical Examiner', 185000, 1985),\n",
       " (27, 'Pestaner', 'Joseph', 'Medical Officer (medical Exami)', 183892, 1997),\n",
       " (28, 'Revercomb', 'Carolyn', 'Medical Officer (medical Exami)', 183892, 2005),\n",
       " (29, 'Morgan', 'Johnson', 'Chief Investment Officer', 183677, 1991),\n",
       " (30, 'Williamson', 'Michael', 'Deputy Director', 182000, 2011),\n",
       " (31, 'White', 'Mattie', 'Medical Officer (psychiatry)', 180604, 1989),\n",
       " (32, 'Park', 'Kyung', 'Medical Officer (psychiatry)', 180604, 1987),\n",
       " (33, 'Gore', 'T', 'Medical Officer (psychiatry)', 172101, 2005),\n",
       " (34, 'LUDWIG', 'BENJAMIN', 'Workers Compensation Recipient', 171517, 1972),\n",
       " (35, 'Atdjian', 'Sylvia', 'Medical Officer (psychiatry)', 170938, 2007),\n",
       " (36, 'Zaidi', 'Syed', 'Medical Officer (psychiatry)', 170344, 2005),\n",
       " (37, 'Sherron', 'Robert', 'Medical Officer (psychiatry)', 170344, 1991),\n",
       " (38, 'Johnson', 'Nicole', 'Medical Officer (psychiatry)', 170344, 2007),\n",
       " (39, 'PETER', 'LISA', 'Chief Of Staff', 170000, 2007),\n",
       " (40, 'Beers', 'Nathaniel', 'Deputy Superintendent', 170000, 2007),\n",
       " (41, 'Nuss', 'Laura', 'Director', 170000, 2007),\n",
       " (42, 'Mancini', 'Robert', 'Acting Director', 170000, 2004),\n",
       " (43, 'Wicker', 'Henry', 'Medical Officer Opthal', 168378, 1987),\n",
       " (44, 'Davenport', 'Nancy', 'Administrative Librarian', 167200, 2006),\n",
       " (45, 'Jaji', 'Abayomi', 'Medical Officer (psychiatry)', 167062, 2000),\n",
       " (46, 'Stevens', 'KyleeAnn', 'Medical Officer (psychiatry)', 167051, 2008),\n",
       " (47, 'Smothers', 'Kenneth', 'Medical Officer (psychiatry)', 166995, 1987),\n",
       " (48, 'Akhtar', 'Saleha', 'Medical Officer (psychiatry)', 166995, 1988),\n",
       " (49, 'Singh', 'Anjali', 'Medical Officer (psychiatry)', 166370, 1999),\n",
       " (50, 'Rahman', 'Umar', 'Medical Officer (psychiatry)', 166370, 1996),\n",
       " (51, 'Adewale', 'Benjamin', 'Medical Officer (psychiatry)', 166370, 1988),\n",
       " (52, 'Zaidi', 'Syed', 'Medical Officer General Practi', 165842, 1983),\n",
       " (53, 'Jackson', 'Kenneth', 'Assistant Fire Chief Srvs', 165306, 1982),\n",
       " (54, 'Berns', 'David', 'Dir Of Human Services', 165200, 2011),\n",
       " (55, 'Cordi', 'Stephen', 'Deputy Cfo Otr', 165162, 2008),\n",
       " (56, 'Mallory', 'Lisa', 'Acting Director', 165000, 2004),\n",
       " (57, 'Flowers', 'Brian', 'General Counsel', 165000, 1985),\n",
       " (58, 'Bellamy', 'Terry', 'Director', 165000, 2008),\n",
       " (59, 'West', 'Millicent', 'Director Homeland Sec & Ema', 165000, 2003),\n",
       " (60, 'Pappas', 'Gregory', 'Deputy Dir', 164800, 2011),\n",
       " (61, 'Altaf', 'Samia', 'Supervisor Medical Officer', 164800, 2010),\n",
       " (62, 'Owens', 'Karen', 'Dental Officer', 164800, 1989)]"
      ]
     },
     "execution_count": 15,
     "metadata": {},
     "output_type": "execute_result"
    }
   ],
   "source": [
    "# Viewing the employee table\n",
    "sql = \"\"\"\n",
    "SELECT employee_id, last_name, first_name, position, salary, date_hired\n",
    "FROM employee\n",
    "\"\"\"\n",
    "cursor.execute(sql)\n",
    "\n",
    "result = cursor.fetchall()\n",
    "result"
   ]
  },
  {
   "cell_type": "code",
   "execution_count": 19,
   "id": "6cb1326d",
   "metadata": {},
   "outputs": [
    {
     "data": {
      "text/plain": [
       "[]"
      ]
     },
     "execution_count": 19,
     "metadata": {},
     "output_type": "execute_result"
    }
   ],
   "source": [
    "# Renaming the column Position to job_role\n",
    "sql = \"\"\"\n",
    "ALTER TABLE employee\n",
    "RENAME position TO job_role\n",
    "\n",
    "\"\"\"\n",
    "cursor.execute(sql)\n",
    "result = cursor.fetchall()\n",
    "result"
   ]
  },
  {
   "cell_type": "code",
   "execution_count": 24,
   "id": "f37cdb5a",
   "metadata": {},
   "outputs": [
    {
     "data": {
      "text/plain": [
       "[(0,),\n",
       " (0,),\n",
       " (0,),\n",
       " (0,),\n",
       " (0,),\n",
       " (0,),\n",
       " (0,),\n",
       " (0,),\n",
       " (0,),\n",
       " (0,),\n",
       " (0,),\n",
       " (0,),\n",
       " (0,),\n",
       " (0,),\n",
       " (0,),\n",
       " (0,),\n",
       " (0,),\n",
       " (0,),\n",
       " (0,),\n",
       " (0,),\n",
       " (0,),\n",
       " (0,),\n",
       " (0,),\n",
       " (0,),\n",
       " (0,),\n",
       " (0,),\n",
       " (0,),\n",
       " (0,),\n",
       " (0,),\n",
       " (0,),\n",
       " (0,),\n",
       " (0,),\n",
       " (0,),\n",
       " (0,),\n",
       " (0,),\n",
       " (0,),\n",
       " (0,),\n",
       " (0,),\n",
       " (0,),\n",
       " (0,),\n",
       " (0,),\n",
       " (0,),\n",
       " (0,),\n",
       " (0,),\n",
       " (0,),\n",
       " (0,),\n",
       " (0,),\n",
       " (0,),\n",
       " (0,),\n",
       " (0,),\n",
       " (0,),\n",
       " (0,),\n",
       " (0,),\n",
       " (0,),\n",
       " (0,),\n",
       " (0,),\n",
       " (0,),\n",
       " (0,),\n",
       " (0,),\n",
       " (0,),\n",
       " (0,)]"
      ]
     },
     "execution_count": 24,
     "metadata": {},
     "output_type": "execute_result"
    }
   ],
   "source": [
    "# Alias the first name and last name as Name.\n",
    "sql = \"\"\" \n",
    "SELECT (first_name \n",
    "AND last_name) \n",
    "AS name\n",
    "FROM employee\n",
    "\"\"\"\n",
    "\n",
    "# Executing sql\n",
    "cursor.execute(sql)\n",
    "result = cursor.fetchall()\n",
    "result"
   ]
  },
  {
   "cell_type": "code",
   "execution_count": 25,
   "id": "90f5f1f8",
   "metadata": {},
   "outputs": [
    {
     "data": {
      "text/plain": [
       "[(8,)]"
      ]
     },
     "execution_count": 25,
     "metadata": {},
     "output_type": "execute_result"
    }
   ],
   "source": [
    "# Counting of employees whose salaries are greater than 200,000.\n",
    "sql = \"\"\" \n",
    "SELECT COUNT(employee_id)\n",
    "FROM employee\n",
    "WHERE salary >= 200000\n",
    "\"\"\"\n",
    "\n",
    "cursor.execute(sql)\n",
    "result = cursor.fetchall()\n",
    "result"
   ]
  },
  {
   "cell_type": "code",
   "execution_count": 26,
   "id": "a357c34b",
   "metadata": {},
   "outputs": [
    {
     "data": {
      "text/plain": [
       "[(164800,)]"
      ]
     },
     "execution_count": 26,
     "metadata": {},
     "output_type": "execute_result"
    }
   ],
   "source": [
    "# Getting the minimum salary from the table\n",
    "sql = \"\"\" \n",
    "SELECT MIN(salary)\n",
    "FROM employee\n",
    "\"\"\"\n",
    "\n",
    "cursor.execute(sql)\n",
    "result = cursor.fetchall()\n",
    "result"
   ]
  },
  {
   "cell_type": "code",
   "execution_count": 28,
   "id": "02f813f6",
   "metadata": {},
   "outputs": [
    {
     "data": {
      "text/plain": [
       "[(295000,)]"
      ]
     },
     "execution_count": 28,
     "metadata": {},
     "output_type": "execute_result"
    }
   ],
   "source": [
    "# Getting the maximum salary from the table\n",
    "sql = \"\"\" \n",
    "SELECT MAX(salary)\n",
    "FROM employee\n",
    "\"\"\"\n",
    "\n",
    "cursor.execute(sql)\n",
    "result = cursor.fetchall()\n",
    "result"
   ]
  },
  {
   "cell_type": "code",
   "execution_count": null,
   "id": "f1149b6a",
   "metadata": {},
   "outputs": [],
   "source": [
    "https://github.com/Damilare125/SQL-ASSINGMENT.git"
   ]
  }
 ],
 "metadata": {
  "kernelspec": {
   "display_name": "Python 3 (ipykernel)",
   "language": "python",
   "name": "python3"
  },
  "language_info": {
   "codemirror_mode": {
    "name": "ipython",
    "version": 3
   },
   "file_extension": ".py",
   "mimetype": "text/x-python",
   "name": "python",
   "nbconvert_exporter": "python",
   "pygments_lexer": "ipython3",
   "version": "3.9.12"
  }
 },
 "nbformat": 4,
 "nbformat_minor": 5
}
