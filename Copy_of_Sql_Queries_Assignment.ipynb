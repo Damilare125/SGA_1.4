{
  "cells": [
    {
      "cell_type": "markdown",
      "metadata": {
        "id": "view-in-github",
        "colab_type": "text"
      },
      "source": [
        "<a href=\"https://colab.research.google.com/github/Damilare125/SGA_1.4/blob/main/Copy_of_Sql_Queries_Assignment.ipynb\" target=\"_parent\"><img src=\"https://colab.research.google.com/assets/colab-badge.svg\" alt=\"Open In Colab\"/></a>"
      ]
    },
    {
      "cell_type": "markdown",
      "metadata": {
        "id": "SpcbZdpX26US"
      },
      "source": [
        "# Basic SQL Queries: Flights Database\n",
        "© Stutern Graduate Accelerator"
      ]
    },
    {
      "cell_type": "markdown",
      "metadata": {
        "id": "6syGqZkJ3H1w"
      },
      "source": [
        "Below is an Entity Relationship Diagram (ERD) of the flights database:\n",
        "\n",
        "<img src=\"https://github.com/Explore-AI/Pictures/blob/master/flights_ER_diagram.png?raw=true\" width=40%/>\n",
        "\n",
        "As can be seen from the ERD, the flights database consists of four tables:\n",
        "- **flights**: all domestic flights in the USA in 2008\n",
        "- **carriers**: lookup table for all the carriers\n",
        "- **planes**: lookup table for all the planes \n",
        "- **airports**: lookup table for all the airports\n",
        "\n",
        "For this challenge you will apply the use of Basic SQL queries to gain insight into the flights database. "
      ]
    },
    {
      "cell_type": "markdown",
      "metadata": {
        "id": "o9Mf6nnMq1Mt"
      },
      "source": [
        "## Instructions to Students\n",
        "\n",
        "This challenge is designed to determine how much you have learned so far and will test your knowledge on basic SQL queries.\n",
        "\n",
        "#### Kindly write your answers in the answer section by double clicking the cell titled \"YOUR ANSWER HERE\"\n",
        "\n",
        "Just incase you don't have the flights.db file, click [here](https://drive.google.com/drive/folders/1zoc3iqg3SMn2817C3ZAWeP2Bu-4FrvGS?usp=sharing) to download and ensure you upload it colab \n",
        "\n",
        "Do not add or remove cells in this notebook. Do not edit or remove the `%%sql` comment as it is required to run each cell.\n",
        "\n",
        "### **FINAL NOTICE, DO NOT IGNORE**\n",
        "\n",
        "* Make sure you select the right answers by running the right queries\n",
        "* Once you are satisfied with your work, Kindly share a link to your notebook on **citrone**.\n",
        "* Ensure access to notebook by changing general access from \"Restricted\" to \"Anyone can view\". This can be achieved by clicking the share button beside the comment button at the right hand side of the top menu/nav bar .\n",
        "\n",
        "###**Thanks!**\n",
        "\n",
        "\n",
        "**_Good Luck!_**"
      ]
    },
    {
      "cell_type": "markdown",
      "metadata": {
        "id": "mn_MipAy4Nd6"
      },
      "source": [
        "\n",
        "## Loading the database\n",
        "\n",
        "Before you start producing basic SQL queries, you need to prepare your SQL environment. You can do this by loading in the magic command `%load_ext sql` as we've seen in previous classes. Next you can go ahead and load in your database. To do this you will need to ensure you have downloaded the `flight.db` [here](https://drive.google.com/drive/folders/1zoc3iqg3SMn2817C3ZAWeP2Bu-4FrvGS?usp=sharing)  "
      ]
    },
    {
      "cell_type": "code",
      "execution_count": 4,
      "metadata": {
        "colab": {
          "base_uri": "https://localhost:8080/",
          "height": 35
        },
        "id": "RPb4uX3f5QpD",
        "outputId": "fcd8e9f0-d59e-47ef-f203-7f1f6035c79d"
      },
      "outputs": [
        {
          "output_type": "execute_result",
          "data": {
            "text/plain": [
              "'Connected: @///content/flights.db'"
            ],
            "application/vnd.google.colaboratory.intrinsic+json": {
              "type": "string"
            }
          },
          "metadata": {},
          "execution_count": 4
        }
      ],
      "source": [
        "%%sql \n",
        "\n",
        "sqlite://////content/flights.db"
      ]
    },
    {
      "cell_type": "code",
      "execution_count": 3,
      "metadata": {
        "id": "G3P6kl84qORE"
      },
      "outputs": [],
      "source": [
        "%load_ext sql"
      ]
    },
    {
      "cell_type": "markdown",
      "metadata": {
        "id": "DEfPERWi7BwE"
      },
      "source": [
        "#Exploring the database \n",
        "\n",
        "Before we begin this challenge we can go ahead and take a look at the composition of each table in the flights database"
      ]
    },
    {
      "cell_type": "code",
      "execution_count": null,
      "metadata": {
        "id": "DogFYdP157J1",
        "colab": {
          "base_uri": "https://localhost:8080/",
          "height": 673
        },
        "outputId": "6dba8023-0876-40ef-f161-3aba35efc283"
      },
      "outputs": [
        {
          "output_type": "stream",
          "name": "stdout",
          "text": [
            " * sqlite://////content/flights.db\n",
            "Done.\n"
          ]
        },
        {
          "output_type": "execute_result",
          "data": {
            "text/plain": [
              "[(0, 'index', 'integer', 0, 'NULL', 0),\n",
              " (1, 'Date', 'longtext', 0, None, 0),\n",
              " (2, 'DayOfWeek', 'integer', 0, 'NULL', 0),\n",
              " (3, 'DepTime', 'double', 0, 'NULL', 0),\n",
              " (4, 'CRSDepTime', 'longtext', 0, None, 0),\n",
              " (5, 'ArrTime', 'double', 0, 'NULL', 0),\n",
              " (6, 'CRSArrTime', 'longtext', 0, None, 0),\n",
              " (7, 'UniqueCarrier', 'longtext', 0, None, 0),\n",
              " (8, 'FlightNum', 'longtext', 0, None, 0),\n",
              " (9, 'TailNum', 'longtext', 0, None, 0),\n",
              " (10, 'ActualElapsedTime', 'double', 0, 'NULL', 0),\n",
              " (11, 'CRSElapsedTime', 'longtext', 0, None, 0),\n",
              " (12, 'AirTime', 'longtext', 0, None, 0),\n",
              " (13, 'ArrDelay', 'double', 0, 'NULL', 0),\n",
              " (14, 'DepDelay', 'double', 0, 'NULL', 0),\n",
              " (15, 'Origin', 'longtext', 0, None, 0),\n",
              " (16, 'Dest', 'longtext', 0, None, 0),\n",
              " (17, 'Distance', 'integer', 0, 'NULL', 0),\n",
              " (18, 'TaxiIn', 'longtext', 0, None, 0),\n",
              " (19, 'TaxiOut', 'longtext', 0, None, 0),\n",
              " (20, 'Cancelled', 'longtext', 0, None, 0),\n",
              " (21, 'CancellationCode', 'longtext', 0, None, 0),\n",
              " (22, 'Diverted', 'longtext', 0, None, 0),\n",
              " (23, 'CarrierDelay', 'longtext', 0, None, 0),\n",
              " (24, 'WeatherDelay', 'longtext', 0, None, 0),\n",
              " (25, 'NASDelay', 'longtext', 0, None, 0),\n",
              " (26, 'SecurityDelay', 'longtext', 0, None, 0),\n",
              " (27, 'LateAircraftDelay', 'longtext', 0, None, 0)]"
            ],
            "text/html": [
              "<table>\n",
              "    <thead>\n",
              "        <tr>\n",
              "            <th>cid</th>\n",
              "            <th>name</th>\n",
              "            <th>type</th>\n",
              "            <th>notnull</th>\n",
              "            <th>dflt_value</th>\n",
              "            <th>pk</th>\n",
              "        </tr>\n",
              "    </thead>\n",
              "    <tbody>\n",
              "        <tr>\n",
              "            <td>0</td>\n",
              "            <td>index</td>\n",
              "            <td>integer</td>\n",
              "            <td>0</td>\n",
              "            <td>NULL</td>\n",
              "            <td>0</td>\n",
              "        </tr>\n",
              "        <tr>\n",
              "            <td>1</td>\n",
              "            <td>Date</td>\n",
              "            <td>longtext</td>\n",
              "            <td>0</td>\n",
              "            <td>None</td>\n",
              "            <td>0</td>\n",
              "        </tr>\n",
              "        <tr>\n",
              "            <td>2</td>\n",
              "            <td>DayOfWeek</td>\n",
              "            <td>integer</td>\n",
              "            <td>0</td>\n",
              "            <td>NULL</td>\n",
              "            <td>0</td>\n",
              "        </tr>\n",
              "        <tr>\n",
              "            <td>3</td>\n",
              "            <td>DepTime</td>\n",
              "            <td>double</td>\n",
              "            <td>0</td>\n",
              "            <td>NULL</td>\n",
              "            <td>0</td>\n",
              "        </tr>\n",
              "        <tr>\n",
              "            <td>4</td>\n",
              "            <td>CRSDepTime</td>\n",
              "            <td>longtext</td>\n",
              "            <td>0</td>\n",
              "            <td>None</td>\n",
              "            <td>0</td>\n",
              "        </tr>\n",
              "        <tr>\n",
              "            <td>5</td>\n",
              "            <td>ArrTime</td>\n",
              "            <td>double</td>\n",
              "            <td>0</td>\n",
              "            <td>NULL</td>\n",
              "            <td>0</td>\n",
              "        </tr>\n",
              "        <tr>\n",
              "            <td>6</td>\n",
              "            <td>CRSArrTime</td>\n",
              "            <td>longtext</td>\n",
              "            <td>0</td>\n",
              "            <td>None</td>\n",
              "            <td>0</td>\n",
              "        </tr>\n",
              "        <tr>\n",
              "            <td>7</td>\n",
              "            <td>UniqueCarrier</td>\n",
              "            <td>longtext</td>\n",
              "            <td>0</td>\n",
              "            <td>None</td>\n",
              "            <td>0</td>\n",
              "        </tr>\n",
              "        <tr>\n",
              "            <td>8</td>\n",
              "            <td>FlightNum</td>\n",
              "            <td>longtext</td>\n",
              "            <td>0</td>\n",
              "            <td>None</td>\n",
              "            <td>0</td>\n",
              "        </tr>\n",
              "        <tr>\n",
              "            <td>9</td>\n",
              "            <td>TailNum</td>\n",
              "            <td>longtext</td>\n",
              "            <td>0</td>\n",
              "            <td>None</td>\n",
              "            <td>0</td>\n",
              "        </tr>\n",
              "        <tr>\n",
              "            <td>10</td>\n",
              "            <td>ActualElapsedTime</td>\n",
              "            <td>double</td>\n",
              "            <td>0</td>\n",
              "            <td>NULL</td>\n",
              "            <td>0</td>\n",
              "        </tr>\n",
              "        <tr>\n",
              "            <td>11</td>\n",
              "            <td>CRSElapsedTime</td>\n",
              "            <td>longtext</td>\n",
              "            <td>0</td>\n",
              "            <td>None</td>\n",
              "            <td>0</td>\n",
              "        </tr>\n",
              "        <tr>\n",
              "            <td>12</td>\n",
              "            <td>AirTime</td>\n",
              "            <td>longtext</td>\n",
              "            <td>0</td>\n",
              "            <td>None</td>\n",
              "            <td>0</td>\n",
              "        </tr>\n",
              "        <tr>\n",
              "            <td>13</td>\n",
              "            <td>ArrDelay</td>\n",
              "            <td>double</td>\n",
              "            <td>0</td>\n",
              "            <td>NULL</td>\n",
              "            <td>0</td>\n",
              "        </tr>\n",
              "        <tr>\n",
              "            <td>14</td>\n",
              "            <td>DepDelay</td>\n",
              "            <td>double</td>\n",
              "            <td>0</td>\n",
              "            <td>NULL</td>\n",
              "            <td>0</td>\n",
              "        </tr>\n",
              "        <tr>\n",
              "            <td>15</td>\n",
              "            <td>Origin</td>\n",
              "            <td>longtext</td>\n",
              "            <td>0</td>\n",
              "            <td>None</td>\n",
              "            <td>0</td>\n",
              "        </tr>\n",
              "        <tr>\n",
              "            <td>16</td>\n",
              "            <td>Dest</td>\n",
              "            <td>longtext</td>\n",
              "            <td>0</td>\n",
              "            <td>None</td>\n",
              "            <td>0</td>\n",
              "        </tr>\n",
              "        <tr>\n",
              "            <td>17</td>\n",
              "            <td>Distance</td>\n",
              "            <td>integer</td>\n",
              "            <td>0</td>\n",
              "            <td>NULL</td>\n",
              "            <td>0</td>\n",
              "        </tr>\n",
              "        <tr>\n",
              "            <td>18</td>\n",
              "            <td>TaxiIn</td>\n",
              "            <td>longtext</td>\n",
              "            <td>0</td>\n",
              "            <td>None</td>\n",
              "            <td>0</td>\n",
              "        </tr>\n",
              "        <tr>\n",
              "            <td>19</td>\n",
              "            <td>TaxiOut</td>\n",
              "            <td>longtext</td>\n",
              "            <td>0</td>\n",
              "            <td>None</td>\n",
              "            <td>0</td>\n",
              "        </tr>\n",
              "        <tr>\n",
              "            <td>20</td>\n",
              "            <td>Cancelled</td>\n",
              "            <td>longtext</td>\n",
              "            <td>0</td>\n",
              "            <td>None</td>\n",
              "            <td>0</td>\n",
              "        </tr>\n",
              "        <tr>\n",
              "            <td>21</td>\n",
              "            <td>CancellationCode</td>\n",
              "            <td>longtext</td>\n",
              "            <td>0</td>\n",
              "            <td>None</td>\n",
              "            <td>0</td>\n",
              "        </tr>\n",
              "        <tr>\n",
              "            <td>22</td>\n",
              "            <td>Diverted</td>\n",
              "            <td>longtext</td>\n",
              "            <td>0</td>\n",
              "            <td>None</td>\n",
              "            <td>0</td>\n",
              "        </tr>\n",
              "        <tr>\n",
              "            <td>23</td>\n",
              "            <td>CarrierDelay</td>\n",
              "            <td>longtext</td>\n",
              "            <td>0</td>\n",
              "            <td>None</td>\n",
              "            <td>0</td>\n",
              "        </tr>\n",
              "        <tr>\n",
              "            <td>24</td>\n",
              "            <td>WeatherDelay</td>\n",
              "            <td>longtext</td>\n",
              "            <td>0</td>\n",
              "            <td>None</td>\n",
              "            <td>0</td>\n",
              "        </tr>\n",
              "        <tr>\n",
              "            <td>25</td>\n",
              "            <td>NASDelay</td>\n",
              "            <td>longtext</td>\n",
              "            <td>0</td>\n",
              "            <td>None</td>\n",
              "            <td>0</td>\n",
              "        </tr>\n",
              "        <tr>\n",
              "            <td>26</td>\n",
              "            <td>SecurityDelay</td>\n",
              "            <td>longtext</td>\n",
              "            <td>0</td>\n",
              "            <td>None</td>\n",
              "            <td>0</td>\n",
              "        </tr>\n",
              "        <tr>\n",
              "            <td>27</td>\n",
              "            <td>LateAircraftDelay</td>\n",
              "            <td>longtext</td>\n",
              "            <td>0</td>\n",
              "            <td>None</td>\n",
              "            <td>0</td>\n",
              "        </tr>\n",
              "    </tbody>\n",
              "</table>"
            ]
          },
          "metadata": {},
          "execution_count": 12
        }
      ],
      "source": [
        "%%sql \n",
        "\n",
        "PRAGMA table_info(flights);"
      ]
    },
    {
      "cell_type": "code",
      "execution_count": 5,
      "metadata": {
        "id": "rFbza7pM6-_T",
        "colab": {
          "base_uri": "https://localhost:8080/",
          "height": 118
        },
        "outputId": "96188f3b-4aab-40a6-fc6f-a74a5c556e8b"
      },
      "outputs": [
        {
          "output_type": "stream",
          "name": "stdout",
          "text": [
            " * sqlite://////content/flights.db\n",
            "Done.\n"
          ]
        },
        {
          "output_type": "execute_result",
          "data": {
            "text/plain": [
              "[(0, 'Code', 'varchar(10)', 0, 'NULL', 0),\n",
              " (1, 'Description', 'varchar(100)', 0, 'NULL', 0)]"
            ],
            "text/html": [
              "<table>\n",
              "    <thead>\n",
              "        <tr>\n",
              "            <th>cid</th>\n",
              "            <th>name</th>\n",
              "            <th>type</th>\n",
              "            <th>notnull</th>\n",
              "            <th>dflt_value</th>\n",
              "            <th>pk</th>\n",
              "        </tr>\n",
              "    </thead>\n",
              "    <tbody>\n",
              "        <tr>\n",
              "            <td>0</td>\n",
              "            <td>Code</td>\n",
              "            <td>varchar(10)</td>\n",
              "            <td>0</td>\n",
              "            <td>NULL</td>\n",
              "            <td>0</td>\n",
              "        </tr>\n",
              "        <tr>\n",
              "            <td>1</td>\n",
              "            <td>Description</td>\n",
              "            <td>varchar(100)</td>\n",
              "            <td>0</td>\n",
              "            <td>NULL</td>\n",
              "            <td>0</td>\n",
              "        </tr>\n",
              "    </tbody>\n",
              "</table>"
            ]
          },
          "metadata": {},
          "execution_count": 5
        }
      ],
      "source": [
        "%%sql \n",
        "\n",
        "PRAGMA table_info(carriers);"
      ]
    },
    {
      "cell_type": "code",
      "execution_count": null,
      "metadata": {
        "id": "5CR8DRoz7OUC",
        "colab": {
          "base_uri": "https://localhost:8080/",
          "height": 225
        },
        "outputId": "4d93abfb-56aa-49de-8cf9-225ecffdf21a"
      },
      "outputs": [
        {
          "output_type": "stream",
          "name": "stdout",
          "text": [
            " * sqlite://////content/flights.db\n",
            "Done.\n"
          ]
        },
        {
          "output_type": "execute_result",
          "data": {
            "text/plain": [
              "[(0, 'iata', 'varchar(10)', 0, 'NULL', 0),\n",
              " (1, 'airport', 'varchar(100)', 0, 'NULL', 0),\n",
              " (2, 'city', 'varchar(100)', 0, 'NULL', 0),\n",
              " (3, 'state', 'varchar(50)', 0, 'NULL', 0),\n",
              " (4, 'country', 'varchar(50)', 0, 'NULL', 0),\n",
              " (5, 'lat', 'float(24,0)', 0, 'NULL', 0),\n",
              " (6, 'long', 'float(24,0)', 0, 'NULL', 0)]"
            ],
            "text/html": [
              "<table>\n",
              "    <thead>\n",
              "        <tr>\n",
              "            <th>cid</th>\n",
              "            <th>name</th>\n",
              "            <th>type</th>\n",
              "            <th>notnull</th>\n",
              "            <th>dflt_value</th>\n",
              "            <th>pk</th>\n",
              "        </tr>\n",
              "    </thead>\n",
              "    <tbody>\n",
              "        <tr>\n",
              "            <td>0</td>\n",
              "            <td>iata</td>\n",
              "            <td>varchar(10)</td>\n",
              "            <td>0</td>\n",
              "            <td>NULL</td>\n",
              "            <td>0</td>\n",
              "        </tr>\n",
              "        <tr>\n",
              "            <td>1</td>\n",
              "            <td>airport</td>\n",
              "            <td>varchar(100)</td>\n",
              "            <td>0</td>\n",
              "            <td>NULL</td>\n",
              "            <td>0</td>\n",
              "        </tr>\n",
              "        <tr>\n",
              "            <td>2</td>\n",
              "            <td>city</td>\n",
              "            <td>varchar(100)</td>\n",
              "            <td>0</td>\n",
              "            <td>NULL</td>\n",
              "            <td>0</td>\n",
              "        </tr>\n",
              "        <tr>\n",
              "            <td>3</td>\n",
              "            <td>state</td>\n",
              "            <td>varchar(50)</td>\n",
              "            <td>0</td>\n",
              "            <td>NULL</td>\n",
              "            <td>0</td>\n",
              "        </tr>\n",
              "        <tr>\n",
              "            <td>4</td>\n",
              "            <td>country</td>\n",
              "            <td>varchar(50)</td>\n",
              "            <td>0</td>\n",
              "            <td>NULL</td>\n",
              "            <td>0</td>\n",
              "        </tr>\n",
              "        <tr>\n",
              "            <td>5</td>\n",
              "            <td>lat</td>\n",
              "            <td>float(24,0)</td>\n",
              "            <td>0</td>\n",
              "            <td>NULL</td>\n",
              "            <td>0</td>\n",
              "        </tr>\n",
              "        <tr>\n",
              "            <td>6</td>\n",
              "            <td>long</td>\n",
              "            <td>float(24,0)</td>\n",
              "            <td>0</td>\n",
              "            <td>NULL</td>\n",
              "            <td>0</td>\n",
              "        </tr>\n",
              "    </tbody>\n",
              "</table>"
            ]
          },
          "metadata": {},
          "execution_count": 14
        }
      ],
      "source": [
        "%%sql \n",
        "\n",
        "PRAGMA table_info(airports);"
      ]
    },
    {
      "cell_type": "code",
      "execution_count": null,
      "metadata": {
        "id": "Yv-F_ubg7SsX",
        "colab": {
          "base_uri": "https://localhost:8080/",
          "height": 267
        },
        "outputId": "ad621f34-8141-4fdc-b507-5832e91e8ebc"
      },
      "outputs": [
        {
          "output_type": "stream",
          "name": "stdout",
          "text": [
            " * sqlite://////content/flights.db\n",
            "Done.\n"
          ]
        },
        {
          "output_type": "execute_result",
          "data": {
            "text/plain": [
              "[(0, 'tailnum', 'varchar(10)', 0, 'NULL', 0),\n",
              " (1, 'type', 'varchar(100)', 0, 'NULL', 0),\n",
              " (2, 'manufacturer', 'varchar(100)', 0, 'NULL', 0),\n",
              " (3, 'issue_date', 'varchar(100)', 0, 'NULL', 0),\n",
              " (4, 'model', 'varchar(50)', 0, 'NULL', 0),\n",
              " (5, 'status', 'varchar(100)', 0, 'NULL', 0),\n",
              " (6, 'aircraft_type', 'varchar(100)', 0, 'NULL', 0),\n",
              " (7, 'engine_type', 'varchar(100)', 0, 'NULL', 0),\n",
              " (8, 'year', 'longtext', 0, None, 0)]"
            ],
            "text/html": [
              "<table>\n",
              "    <thead>\n",
              "        <tr>\n",
              "            <th>cid</th>\n",
              "            <th>name</th>\n",
              "            <th>type</th>\n",
              "            <th>notnull</th>\n",
              "            <th>dflt_value</th>\n",
              "            <th>pk</th>\n",
              "        </tr>\n",
              "    </thead>\n",
              "    <tbody>\n",
              "        <tr>\n",
              "            <td>0</td>\n",
              "            <td>tailnum</td>\n",
              "            <td>varchar(10)</td>\n",
              "            <td>0</td>\n",
              "            <td>NULL</td>\n",
              "            <td>0</td>\n",
              "        </tr>\n",
              "        <tr>\n",
              "            <td>1</td>\n",
              "            <td>type</td>\n",
              "            <td>varchar(100)</td>\n",
              "            <td>0</td>\n",
              "            <td>NULL</td>\n",
              "            <td>0</td>\n",
              "        </tr>\n",
              "        <tr>\n",
              "            <td>2</td>\n",
              "            <td>manufacturer</td>\n",
              "            <td>varchar(100)</td>\n",
              "            <td>0</td>\n",
              "            <td>NULL</td>\n",
              "            <td>0</td>\n",
              "        </tr>\n",
              "        <tr>\n",
              "            <td>3</td>\n",
              "            <td>issue_date</td>\n",
              "            <td>varchar(100)</td>\n",
              "            <td>0</td>\n",
              "            <td>NULL</td>\n",
              "            <td>0</td>\n",
              "        </tr>\n",
              "        <tr>\n",
              "            <td>4</td>\n",
              "            <td>model</td>\n",
              "            <td>varchar(50)</td>\n",
              "            <td>0</td>\n",
              "            <td>NULL</td>\n",
              "            <td>0</td>\n",
              "        </tr>\n",
              "        <tr>\n",
              "            <td>5</td>\n",
              "            <td>status</td>\n",
              "            <td>varchar(100)</td>\n",
              "            <td>0</td>\n",
              "            <td>NULL</td>\n",
              "            <td>0</td>\n",
              "        </tr>\n",
              "        <tr>\n",
              "            <td>6</td>\n",
              "            <td>aircraft_type</td>\n",
              "            <td>varchar(100)</td>\n",
              "            <td>0</td>\n",
              "            <td>NULL</td>\n",
              "            <td>0</td>\n",
              "        </tr>\n",
              "        <tr>\n",
              "            <td>7</td>\n",
              "            <td>engine_type</td>\n",
              "            <td>varchar(100)</td>\n",
              "            <td>0</td>\n",
              "            <td>NULL</td>\n",
              "            <td>0</td>\n",
              "        </tr>\n",
              "        <tr>\n",
              "            <td>8</td>\n",
              "            <td>year</td>\n",
              "            <td>longtext</td>\n",
              "            <td>0</td>\n",
              "            <td>None</td>\n",
              "            <td>0</td>\n",
              "        </tr>\n",
              "    </tbody>\n",
              "</table>"
            ]
          },
          "metadata": {},
          "execution_count": 15
        }
      ],
      "source": [
        "%%sql \n",
        "\n",
        "PRAGMA table_info(planes);"
      ]
    },
    {
      "cell_type": "markdown",
      "metadata": {
        "id": "1jic_xzd7qxu"
      },
      "source": [
        "## Questions on Basic SQL Queries \n",
        "\n",
        "Now that you have an idea of what information each table contains, you can use the given cell below each question to execute your basic SQL queries to find the correct output from the options provided for the multiple choice questions on form."
      ]
    },
    {
      "cell_type": "markdown",
      "metadata": {
        "id": "rrx6v9y07x3Q"
      },
      "source": [
        "**Question 1**\n",
        "\n",
        "How many different carriers are there in total in the database?\n",
        "\n",
        "**Options:**\n",
        "- 1 252\n",
        "- 1491\n",
        "- 20\n",
        "- 37"
      ]
    },
    {
      "cell_type": "code",
      "execution_count": null,
      "metadata": {
        "id": "yxBbvV6K7ZIt",
        "colab": {
          "base_uri": "https://localhost:8080/",
          "height": 96
        },
        "outputId": "05bb838b-318f-4f9e-9382-2e9b12d1de26"
      },
      "outputs": [
        {
          "output_type": "stream",
          "name": "stdout",
          "text": [
            " * sqlite://////content/flights.db\n",
            "Done.\n"
          ]
        },
        {
          "output_type": "execute_result",
          "data": {
            "text/plain": [
              "[(1491,)]"
            ],
            "text/html": [
              "<table>\n",
              "    <thead>\n",
              "        <tr>\n",
              "            <th>COUNT(*)</th>\n",
              "        </tr>\n",
              "    </thead>\n",
              "    <tbody>\n",
              "        <tr>\n",
              "            <td>1491</td>\n",
              "        </tr>\n",
              "    </tbody>\n",
              "</table>"
            ]
          },
          "metadata": {},
          "execution_count": 13
        }
      ],
      "source": [
        "%%sql\n",
        "--your code here\n",
        "SELECT COUNT(*)\n",
        "FROM carriers"
      ]
    },
    {
      "cell_type": "markdown",
      "metadata": {
        "id": "jbQrUUTXtXkJ"
      },
      "source": [
        "### YOUR ANSWER HERE:1491"
      ]
    },
    {
      "cell_type": "markdown",
      "metadata": {
        "id": "VTSePiaa7_Yu"
      },
      "source": [
        "**Question 2** \n",
        "\n",
        "How long was the longest delay before departure? \n",
        "\n",
        "**Options:**\n",
        "- 1355 min\n",
        "- 999 min\n",
        "- 1099 min\n",
        "- 588 min"
      ]
    },
    {
      "cell_type": "code",
      "execution_count": 6,
      "metadata": {
        "id": "QeJQFrCV8ECZ",
        "colab": {
          "base_uri": "https://localhost:8080/",
          "height": 96
        },
        "outputId": "a8782f72-81dd-4cf4-f827-182da5250444"
      },
      "outputs": [
        {
          "output_type": "stream",
          "name": "stdout",
          "text": [
            " * sqlite://////content/flights.db\n",
            "Done.\n"
          ]
        },
        {
          "output_type": "execute_result",
          "data": {
            "text/plain": [
              "[(1355.0,)]"
            ],
            "text/html": [
              "<table>\n",
              "    <thead>\n",
              "        <tr>\n",
              "            <th>MAX(DepDelay)</th>\n",
              "        </tr>\n",
              "    </thead>\n",
              "    <tbody>\n",
              "        <tr>\n",
              "            <td>1355.0</td>\n",
              "        </tr>\n",
              "    </tbody>\n",
              "</table>"
            ]
          },
          "metadata": {},
          "execution_count": 6
        }
      ],
      "source": [
        "%%sql\n",
        "-- your code here\n",
        "SELECT MAX(DepDelay)\n",
        "FROM flights;"
      ]
    },
    {
      "cell_type": "markdown",
      "metadata": {
        "id": "H5aCJAP4udiu"
      },
      "source": [
        "### YOUR ANSWER HERE:1355 min\n"
      ]
    },
    {
      "cell_type": "markdown",
      "metadata": {
        "id": "q-xmbYTI8jcM"
      },
      "source": [
        "**Question 3** \n",
        "\n",
        "How many flights departed on the 28th of January 2008?\n",
        "\n",
        "**Options:**\n",
        "- 540 908\n",
        "- 20 149\n",
        "- 19 495\n",
        "- 18 056"
      ]
    },
    {
      "cell_type": "code",
      "execution_count": null,
      "metadata": {
        "id": "Yh2gQ4Ir9Zex",
        "colab": {
          "base_uri": "https://localhost:8080/",
          "height": 96
        },
        "outputId": "c161813d-fa39-4d25-e935-b469d3ca9d39"
      },
      "outputs": [
        {
          "output_type": "stream",
          "name": "stdout",
          "text": [
            " * sqlite://////content/flights.db\n",
            "Done.\n"
          ]
        },
        {
          "output_type": "execute_result",
          "data": {
            "text/plain": [
              "[(None, 0)]"
            ],
            "text/html": [
              "<table>\n",
              "    <thead>\n",
              "        <tr>\n",
              "            <th>DepTime</th>\n",
              "            <th>COUNT(*)</th>\n",
              "        </tr>\n",
              "    </thead>\n",
              "    <tbody>\n",
              "        <tr>\n",
              "            <td>None</td>\n",
              "            <td>0</td>\n",
              "        </tr>\n",
              "    </tbody>\n",
              "</table>"
            ]
          },
          "metadata": {},
          "execution_count": 56
        }
      ],
      "source": [
        "%%sql\n",
        "-- your code here\n",
        "SELECT DepTime, COUNT(*)\n",
        "FROM flights\n",
        "WHERE date = 2008/1/28"
      ]
    },
    {
      "cell_type": "markdown",
      "metadata": {
        "id": "OXlOG7e-vYYL"
      },
      "source": [
        "### YOUR ANSWER HERE: 0"
      ]
    },
    {
      "cell_type": "markdown",
      "metadata": {
        "id": "L_a4l1Si_Ysw"
      },
      "source": [
        "**Question 4**\n",
        " \n",
        " What is the distance between Midway Airport (MDW) and Houston Airport (HOU)?\n",
        " \n",
        " **Options:**\n",
        " - 611 km\n",
        " - 972 km\n",
        " - 1 121 km\n",
        " - 937 km"
      ]
    },
    {
      "cell_type": "code",
      "execution_count": null,
      "metadata": {
        "id": "DopkPHBSAtoa",
        "colab": {
          "base_uri": "https://localhost:8080/",
          "height": 96
        },
        "outputId": "80b2ed64-c6a9-4839-e0ef-a126ccccd0f8"
      },
      "outputs": [
        {
          "output_type": "stream",
          "name": "stdout",
          "text": [
            " * sqlite://////content/flights.db\n",
            "Done.\n"
          ]
        },
        {
          "output_type": "execute_result",
          "data": {
            "text/plain": [
              "[(937, 184)]"
            ],
            "text/html": [
              "<table>\n",
              "    <thead>\n",
              "        <tr>\n",
              "            <th>Distance</th>\n",
              "            <th>COUNT(*)</th>\n",
              "        </tr>\n",
              "    </thead>\n",
              "    <tbody>\n",
              "        <tr>\n",
              "            <td>937</td>\n",
              "            <td>184</td>\n",
              "        </tr>\n",
              "    </tbody>\n",
              "</table>"
            ]
          },
          "metadata": {},
          "execution_count": 86
        }
      ],
      "source": [
        "%%sql\n",
        "--your code here\n",
        "SELECT Distance, COUNT(*)\n",
        "FROM flights\n",
        "WHERE Origin = \"MDW\" AND Dest = \"HOU\""
      ]
    },
    {
      "cell_type": "markdown",
      "metadata": {
        "id": "_Wy_hxQDvwjI"
      },
      "source": [
        "### YOUR ANSWER HERE: 937 km"
      ]
    },
    {
      "cell_type": "markdown",
      "metadata": {
        "id": "7UhjfCajAw_m"
      },
      "source": [
        "**Question 5**\n",
        "\n",
        "Which day of the week had the highest number of cancelled flights?(Note 1 = cancelled , 0 = not cancelled;)\n",
        "\n",
        "\n",
        "**Options:**\n",
        "- Monday(1)\n",
        "- Wednesday(3) \n",
        "- Saturday(6) \n",
        "- Thursday (4) "
      ]
    },
    {
      "cell_type": "code",
      "execution_count": null,
      "metadata": {
        "id": "t1dYjEY7A1us",
        "colab": {
          "base_uri": "https://localhost:8080/",
          "height": 96
        },
        "outputId": "60c158a7-9c9e-4eb0-906c-1669ac25f0a4"
      },
      "outputs": [
        {
          "output_type": "stream",
          "name": "stdout",
          "text": [
            " * sqlite://////content/flights.db\n",
            "Done.\n"
          ]
        },
        {
          "output_type": "execute_result",
          "data": {
            "text/plain": [
              "[(4, '1')]"
            ],
            "text/html": [
              "<table>\n",
              "    <thead>\n",
              "        <tr>\n",
              "            <th>DayOfWeek</th>\n",
              "            <th>MAX(Cancelled)</th>\n",
              "        </tr>\n",
              "    </thead>\n",
              "    <tbody>\n",
              "        <tr>\n",
              "            <td>4</td>\n",
              "            <td>1</td>\n",
              "        </tr>\n",
              "    </tbody>\n",
              "</table>"
            ]
          },
          "metadata": {},
          "execution_count": 24
        }
      ],
      "source": [
        "%%sql\n",
        "-- your code here\n",
        "SELECT DISTINCT (DayOfWeek), MAX(Cancelled)\n",
        "FROM flights"
      ]
    },
    {
      "cell_type": "markdown",
      "metadata": {
        "id": "oACxyy6_vy-g"
      },
      "source": [
        "### YOUR ANSWER HERE: Thursday(4)"
      ]
    },
    {
      "cell_type": "markdown",
      "metadata": {
        "id": "96IF0qcZA4SI"
      },
      "source": [
        "**Question 6**\n",
        "\n",
        "How many airports have the word \"International\" in their name?\n",
        "\n",
        "**Options:**\n",
        "- 110\n",
        "- 124\n",
        "- 8\n",
        "- 2"
      ]
    },
    {
      "cell_type": "code",
      "execution_count": 7,
      "metadata": {
        "id": "h-lHG0C_DXfL",
        "colab": {
          "base_uri": "https://localhost:8080/",
          "height": 96
        },
        "outputId": "2a13e5f2-de9c-48fa-dda4-49ea60025ccd"
      },
      "outputs": [
        {
          "output_type": "stream",
          "name": "stdout",
          "text": [
            " * sqlite://////content/flights.db\n",
            "Done.\n"
          ]
        },
        {
          "output_type": "execute_result",
          "data": {
            "text/plain": [
              "[(1,)]"
            ],
            "text/html": [
              "<table>\n",
              "    <thead>\n",
              "        <tr>\n",
              "            <th>COUNT(*)</th>\n",
              "        </tr>\n",
              "    </thead>\n",
              "    <tbody>\n",
              "        <tr>\n",
              "            <td>1</td>\n",
              "        </tr>\n",
              "    </tbody>\n",
              "</table>"
            ]
          },
          "metadata": {},
          "execution_count": 7
        }
      ],
      "source": [
        "%%sql\n",
        "--your code here\n",
        "SELECT COUNT(*)\n",
        "FROM airports\n",
        "WHERE airport = \"International\"\n",
        "ORDER BY airport"
      ]
    },
    {
      "cell_type": "markdown",
      "metadata": {
        "id": "Hl7lHv_Iv1fA"
      },
      "source": [
        "### YOUR ANSWER HERE: 1"
      ]
    },
    {
      "cell_type": "markdown",
      "metadata": {
        "id": "Xabo9EvoDfYT"
      },
      "source": [
        "**Question 7**\n",
        "\n",
        "What is the most produced model for the manufacturer \"BOEING\"?\n",
        "\n",
        "**Options:**\n",
        "- 717-200\n",
        "- 737-7H4\n",
        "- 757-222\n",
        "- 737-3H4"
      ]
    },
    {
      "cell_type": "code",
      "execution_count": 8,
      "metadata": {
        "id": "OCnWyHOXDrvp",
        "colab": {
          "base_uri": "https://localhost:8080/",
          "height": 96
        },
        "outputId": "428a7463-7942-45e3-a1db-3fb98be5a263"
      },
      "outputs": [
        {
          "output_type": "stream",
          "name": "stdout",
          "text": [
            " * sqlite://////content/flights.db\n",
            "Done.\n"
          ]
        },
        {
          "output_type": "execute_result",
          "data": {
            "text/plain": [
              "[('VANS AIRCRAFT RV6', 5029)]"
            ],
            "text/html": [
              "<table>\n",
              "    <thead>\n",
              "        <tr>\n",
              "            <th>MAX(model)</th>\n",
              "            <th>manufacturer</th>\n",
              "        </tr>\n",
              "    </thead>\n",
              "    <tbody>\n",
              "        <tr>\n",
              "            <td>VANS AIRCRAFT RV6</td>\n",
              "            <td>5029</td>\n",
              "        </tr>\n",
              "    </tbody>\n",
              "</table>"
            ]
          },
          "metadata": {},
          "execution_count": 8
        }
      ],
      "source": [
        "%%sql\n",
        "-- your code here\n",
        "SELECT MAX(model), COUNT(*) AS manufacturer\n",
        "FROM planes"
      ]
    },
    {
      "cell_type": "markdown",
      "metadata": {
        "id": "iQv83kHVv3SC"
      },
      "source": [
        "### YOUR ANSWER HERE: RV6 5029"
      ]
    },
    {
      "cell_type": "markdown",
      "metadata": {
        "id": "NZheC-NnD2VO"
      },
      "source": [
        "**Question 8**\n",
        "\n",
        "How many planes landed at Los Angeles International Airport? \n",
        "\n",
        "**Options:**\n",
        "- 215 608\n",
        "- 18 964\n",
        "- 41 258\n",
        "- 39 422"
      ]
    },
    {
      "cell_type": "code",
      "execution_count": 10,
      "metadata": {
        "id": "WRJtvQq-ELy4",
        "colab": {
          "base_uri": "https://localhost:8080/",
          "height": 96
        },
        "outputId": "2b8fb6be-40c2-4ef0-efa9-373f9b74d397"
      },
      "outputs": [
        {
          "output_type": "stream",
          "name": "stdout",
          "text": [
            " * sqlite://////content/flights.db\n",
            "Done.\n"
          ]
        },
        {
          "output_type": "execute_result",
          "data": {
            "text/plain": [
              "[('Zuni', 3364)]"
            ],
            "text/html": [
              "<table>\n",
              "    <thead>\n",
              "        <tr>\n",
              "            <th>MAX(city)</th>\n",
              "            <th>COUNT(*)</th>\n",
              "        </tr>\n",
              "    </thead>\n",
              "    <tbody>\n",
              "        <tr>\n",
              "            <td>Zuni</td>\n",
              "            <td>3364</td>\n",
              "        </tr>\n",
              "    </tbody>\n",
              "</table>"
            ]
          },
          "metadata": {},
          "execution_count": 10
        }
      ],
      "source": [
        "%%sql\n",
        "\n",
        "--your code here\n",
        "SELECT MAX(city), COUNT(*)\n",
        "FROM airports\n",
        "WHERE city != \"Los Angeles International Airport\""
      ]
    },
    {
      "cell_type": "markdown",
      "metadata": {
        "id": "a_AnVjD2v5PQ"
      },
      "source": [
        "### YOUR ANSWER HERE: 3364"
      ]
    }
  ],
  "metadata": {
    "colab": {
      "collapsed_sections": [],
      "provenance": [],
      "include_colab_link": true
    },
    "kernelspec": {
      "display_name": "Python 3",
      "name": "python3"
    },
    "language_info": {
      "name": "python"
    }
  },
  "nbformat": 4,
  "nbformat_minor": 0
}