{
  "cells": [
    {
      "cell_type": "markdown",
      "metadata": {
        "id": "view-in-github",
        "colab_type": "text"
      },
      "source": [
        "<a href=\"https://colab.research.google.com/github/Damilare125/SGA_1.4/blob/main/module_2_assignment.ipynb\" target=\"_parent\"><img src=\"https://colab.research.google.com/assets/colab-badge.svg\" alt=\"Open In Colab\"/></a>"
      ]
    },
    {
      "cell_type": "markdown",
      "id": "7d17c003-b142-4e1a-b48f-21d29ec3dbaa",
      "metadata": {
        "id": "7d17c003-b142-4e1a-b48f-21d29ec3dbaa"
      },
      "source": [
        "# Module 2 (Assignment)"
      ]
    },
    {
      "cell_type": "markdown",
      "id": "c4e0ade3-8b31-4601-93a6-64d4f5746c00",
      "metadata": {
        "id": "c4e0ade3-8b31-4601-93a6-64d4f5746c00"
      },
      "source": [
        "### Qs 1. \n",
        "a. Write a function called `make_album()` that builds a dictionary describing a music album. The function should take in an artist name and an\n",
        "album title, and it should return a dictionary containing these two pieces of information. Use the function to make three dictionaries representing different albums. \n",
        "Print each return value to show that the dictionaries are storing the \n",
        "album information correctly.\n",
        "    \n",
        "b. Use `None` to add an optional parameter to `make_album()` that allows you to store the number of songs on an album. If the calling line includes a value for\n",
        "the number of songs, add that value to the album’s dictionary. Make at least one new function call that includes the number of songs on an album.\n",
        "\n",
        "    \n",
        "c. Write an updated version of the function above called `make_album_updated()` that accepts the ***required*** arguments `artist_name`, `album_title`, `num_of_songs` and some ***arbitrary optional*** arguments like `year_released`, etc."
      ]
    },
    {
      "cell_type": "code",
      "execution_count": 1,
      "id": "ad9150c6-90a8-4dfa-81b2-c0c4365012ac",
      "metadata": {
        "scrolled": true,
        "id": "ad9150c6-90a8-4dfa-81b2-c0c4365012ac",
        "outputId": "6b082274-248f-4961-8417-1fcd191b458b",
        "colab": {
          "base_uri": "https://localhost:8080/"
        }
      },
      "outputs": [
        {
          "output_type": "stream",
          "name": "stdout",
          "text": [
            "[{'artist name': 'wizkid', 'album title': 'superstar'}]\n",
            "[{'artist name': 'davido', 'album title': 'ABT'}]\n",
            "[{'artist name': 'burna boy', 'album title': 'love damini'}]\n"
          ]
        }
      ],
      "source": [
        "# Enter your code here\n",
        "\n",
        "# 1a. Creating a make_album function 1\n",
        "make_album = {\"artist name\": \"wizkid\", \"album title\": \"superstar\"}\n",
        "\n",
        "# Calling out the object\n",
        "print([make_album])\n",
        "\n",
        "\n",
        "# Creating a make_album function 2\n",
        "make_album2 = {\"artist name\": \"davido\", \"album title\": \"ABT\"}\n",
        "\n",
        "# Calling out the object\n",
        "print([make_album2])\n",
        "\n",
        "\n",
        "# Creating a make_album function 3\n",
        "make_album3 = {\"artist name\": \"burna boy\", \"album title\": \"love damini\"}\n",
        "\n",
        "# Calling out the object\n",
        "print([make_album3])\n"
      ]
    },
    {
      "cell_type": "code",
      "source": [
        "# 1b. Adding optional parameters\n",
        "make_album[\"number of song\"] = 16\n",
        "\n",
        "print([make_album])"
      ],
      "metadata": {
        "id": "BkYyScWH5i5u",
        "outputId": "a3eb5b48-22e0-4167-8cdc-a9f2683be430",
        "colab": {
          "base_uri": "https://localhost:8080/"
        }
      },
      "id": "BkYyScWH5i5u",
      "execution_count": 2,
      "outputs": [
        {
          "output_type": "stream",
          "name": "stdout",
          "text": [
            "[{'artist name': 'wizkid', 'album title': 'superstar', 'number of song': 16}]\n"
          ]
        }
      ]
    },
    {
      "cell_type": "code",
      "source": [
        "# 1c. Writting an updated version\n",
        "make_album.update({\"year of release\": 2010, \"minutes\": 32})\n",
        "\n",
        "print([make_album])"
      ],
      "metadata": {
        "id": "INlRz4vd5pBS",
        "outputId": "fb5f9d31-f531-4bfd-b692-7af41a530e17",
        "colab": {
          "base_uri": "https://localhost:8080/"
        }
      },
      "id": "INlRz4vd5pBS",
      "execution_count": 3,
      "outputs": [
        {
          "output_type": "stream",
          "name": "stdout",
          "text": [
            "[{'artist name': 'wizkid', 'album title': 'superstar', 'number of song': 16, 'year of release': 2010, 'minutes': 32}]\n"
          ]
        }
      ]
    },
    {
      "cell_type": "markdown",
      "id": "d7084130-c60d-4f91-9bea-a4426b620935",
      "metadata": {
        "id": "d7084130-c60d-4f91-9bea-a4426b620935"
      },
      "source": [
        "### Qs 2. \n",
        "\n",
        "* Write an `if-elif-else` chain that determines a person’s stage of life. Set a value for the variable `age`, and then:\n",
        "    * If the person is ***less than 2 years old***, print a message that the person is a ***baby***.\n",
        "    * If the person is ***at least 2 years old but less than 4***, print a message that the person is a ***toddler***.\n",
        "    * If the person is ***at least 4 years old but less than 13***, print a message that the person is a ***kid***.\n",
        "    * If the person is ***at least 13 years old but less than 20***, print a message that the person is a ***teenager***.\n",
        "    * If the person is ***at least 20 years old but less than 65***, print a message that the person is an ***adult***.\n",
        "    * If the person is ***age 65 or older***, print a message that the person is an ***elder***."
      ]
    },
    {
      "cell_type": "code",
      "execution_count": 4,
      "id": "97c56b2a-1395-4894-be9f-7739aa190dea",
      "metadata": {
        "scrolled": true,
        "id": "97c56b2a-1395-4894-be9f-7739aa190dea",
        "outputId": "b48465bb-efc8-478a-d1e8-533a6a191c99",
        "colab": {
          "base_uri": "https://localhost:8080/"
        }
      },
      "outputs": [
        {
          "output_type": "stream",
          "name": "stdout",
          "text": [
            "adult\n"
          ]
        }
      ],
      "source": [
        "# Enter your code here\n",
        "\n",
        "# 2. Writing an if-elif-else chain\n",
        "age=20\n",
        "if age < 2:\n",
        "    print(\"baby\")\n",
        "if age < 4:\n",
        "    print(\"toddler\")\n",
        "if age < 13:\n",
        "    print(\"kid\")\n",
        "if age < 20:\n",
        "    print(\"teenager\")\n",
        "if age < 65:\n",
        "    print(\"adult\")\n",
        "if age >= 65:\n",
        "    print(\"elder\")"
      ]
    },
    {
      "cell_type": "markdown",
      "id": "e9728419-f5b9-47c2-bca4-161094de2718",
      "metadata": {
        "id": "e9728419-f5b9-47c2-bca4-161094de2718"
      },
      "source": [
        "### Qs 3. \n",
        "Given the string **\"For the winter break I had a list of stories I wanted to write\"**. Write a program that:\n",
        "\n",
        "a. creates a ***list*** containing each word as an element in the list.\n",
        "\n",
        "b. turns all the ***words*** in the string to ***title casing***.\n",
        "\n",
        "c. turns all the ***words*** in the string to ***upper casing***."
      ]
    },
    {
      "cell_type": "code",
      "execution_count": 5,
      "id": "5aec5259-59b8-4d3b-9724-4307c90f4ed3",
      "metadata": {
        "scrolled": true,
        "id": "5aec5259-59b8-4d3b-9724-4307c90f4ed3",
        "outputId": "801e48f2-dfff-4e3d-a607-b9938106d0a6",
        "colab": {
          "base_uri": "https://localhost:8080/"
        }
      },
      "outputs": [
        {
          "output_type": "stream",
          "name": "stdout",
          "text": [
            "Please enter any sentence of your choice: For the winter break I had a list of stories I wanted to write \n",
            "\n",
            "This is your splitted list['For', 'the', 'winter', 'break', 'I', 'had', 'a', 'list', 'of', 'stories', 'I', 'wanted', 'to', 'write', '']\n",
            "\n",
            "This is your title case list['For', 'The', 'Winter', 'Break', 'I', 'Had', 'A', 'List', 'Of', 'Stories', 'I', 'Wanted', 'To', 'Write', '']\n",
            "\n",
            "This is your upper case list['FOR', 'THE', 'WINTER', 'BREAK', 'I', 'HAD', 'A', 'LIST', 'OF', 'STORIES', 'I', 'WANTED', 'TO', 'WRITE', '']\n"
          ]
        }
      ],
      "source": [
        "# Enter your code here\n",
        "\n",
        "# 3.\n",
        "# Read in a string sentence\n",
        "text = input(\"Please enter any sentence of your choice: \")\n",
        "\n",
        "# Split the sentence into a list\n",
        "list_text = text.split(' ')\n",
        "print()\n",
        "print(f'This is your splitted list{list_text}')\n",
        "print()\n",
        "# Declaring an empty list, called title that will hold the tittle case\n",
        "title=[]\n",
        "# Declaring an empty list, called upper that will hold the upper case\n",
        "upper=[]\n",
        "# Iterate through 'list_text'\n",
        "for items in list_text:\n",
        "  # Append each item to the empty tittle list\n",
        "  title.append(items.title())\n",
        "  # Append each item to the empty tittle list\n",
        "  upper.append(items.upper())\n",
        "print(f'This is your title case list{title}')\n",
        "print()\n",
        "print(f'This is your upper case list{upper}')\n"
      ]
    },
    {
      "cell_type": "markdown",
      "id": "267642c5-69c1-4dd2-8c86-01b1b981ace7",
      "metadata": {
        "id": "267642c5-69c1-4dd2-8c86-01b1b981ace7"
      },
      "source": [
        "### Qs 4. \n",
        "Make a dictionary called `cities`. Use the names of three cities as keys in your dictionary. Create a dictionary of information about each city and\n",
        "include the country that the city is in, its approximate population, and one fact about that city. The keys for each city’s dictionary should be something like\n",
        "***country***, ***population***, and ***fact***. Print the name of each city and all of the information you have stored about it."
      ]
    },
    {
      "cell_type": "code",
      "execution_count": 6,
      "id": "c8fd468d-bcd7-4f51-afff-b4cf573aac70",
      "metadata": {
        "scrolled": true,
        "id": "c8fd468d-bcd7-4f51-afff-b4cf573aac70",
        "outputId": "08858f54-cf46-4c73-91cd-a89ec83401d0",
        "colab": {
          "base_uri": "https://localhost:8080/"
        }
      },
      "outputs": [
        {
          "output_type": "stream",
          "name": "stdout",
          "text": [
            "[{'country': 'Nigeria', 'population': 15388000, 'fact': 'the center of trade and commerce'}]\n",
            "[{'country': 'Nigeria', 'population': 7512855, 'fact': 'it was founded by the Yoruba people in 1750'}]\n",
            "[{'country': 'Nigeria', 'population': 4864322, 'fact': 'gateway to Nigeria'}]\n"
          ]
        }
      ],
      "source": [
        "# Enter your code here\n",
        "\n",
        "# 4.Making a dictionary called cities\n",
        "lagos = {\"country\": \"Nigeria\", \"population\": 15388000, \"fact\": \"the center of trade and commerce\"}\n",
        "print([lagos])\n",
        "\n",
        "oyo = {\"country\": \"Nigeria\", \"population\": 7512855, \"fact\": \"it was founded by the Yoruba people in 1750\"}\n",
        "print([oyo])\n",
        "\n",
        "ogun = {\"country\": \"Nigeria\", \"population\": 4864322, \"fact\": \"gateway to Nigeria\"}\n",
        "print([ogun])\n"
      ]
    },
    {
      "cell_type": "markdown",
      "id": "006cd37a-9d4b-4b4e-a1b7-5a4252c9bb46",
      "metadata": {
        "tags": [],
        "id": "006cd37a-9d4b-4b4e-a1b7-5a4252c9bb46"
      },
      "source": [
        "### Qs 5. \n",
        "Write a Python function called `calculate_length_of_dict_values()` to find the ***length*** of a given dictionary values. \n",
        "e.g\n",
        "\n",
        "```Python\n",
        "my_dict = {1: 'red', 2: 'green', 3: 'black', 4: 'white'}\n",
        "\n",
        "calculate_length_of_dict_values(my_dict)\n",
        "```\n",
        "**`Output`**:\n",
        "```Python\n",
        "{'red': 3, 'green': 5, 'black': 5, 'white': 5}\n",
        "```"
      ]
    },
    {
      "cell_type": "code",
      "execution_count": 7,
      "id": "11b77e0d-9065-4e27-aaf2-d23473c48e3e",
      "metadata": {
        "scrolled": true,
        "id": "11b77e0d-9065-4e27-aaf2-d23473c48e3e",
        "outputId": "55571070-b487-4f5f-a6ca-1be6f855b457",
        "colab": {
          "base_uri": "https://localhost:8080/"
        }
      },
      "outputs": [
        {
          "output_type": "stream",
          "name": "stdout",
          "text": [
            "The lenght of my dict is: {'purple': 6, 'Orange': 6, 'Violet': 6, 'White': 5}\n"
          ]
        }
      ],
      "source": [
        "# Enter your code here\n",
        "\n",
        "# 5.\n",
        "def calculate_length_of_dict_values(dict):\n",
        "    my_dict = {}\n",
        "    for val in dict.values():\n",
        "        my_dict[val] = len(val)\n",
        "    return my_dict\n",
        "my_dict = {1: 'purple', 2: 'Orange', 3: 'Violet', 4: 'White'}\n",
        "result = calculate_length_of_dict_values(my_dict)\n",
        "print(\"The lenght of my dict is:\", result)\n"
      ]
    },
    {
      "cell_type": "markdown",
      "id": "27539883-af94-46d2-bdad-def7a42dccdf",
      "metadata": {
        "id": "27539883-af94-46d2-bdad-def7a42dccdf"
      },
      "source": [
        "### Qs 6. \n",
        "Given the dict: \n",
        "\n",
        "```Python\n",
        "my_dict = {\n",
        "    \"isbn\": \"123-456-222\",\n",
        "    \"author\": {\"lastname\": \"Doe\", \"firstname\": \"Jane\"},\n",
        "    \"editor\": {\"lastname\": \"Smith\", \"firstname\": \"Jane\"},\n",
        "    \"title\": \"The Ultimate Database Study Guide\",\n",
        "    \"category\": [\"Non-Fiction\", \"Technology\"],\n",
        "}\n",
        "```\n",
        "\n",
        "a. select the category `Technology`.\n",
        "\n",
        "b. select the editior's `firstname`."
      ]
    },
    {
      "cell_type": "code",
      "execution_count": 8,
      "id": "e8d00a8a-7462-487f-8527-717d75458abd",
      "metadata": {
        "scrolled": true,
        "id": "e8d00a8a-7462-487f-8527-717d75458abd",
        "outputId": "ab174be1-3373-4d59-f73c-0be011e6e6a4",
        "colab": {
          "base_uri": "https://localhost:8080/"
        }
      },
      "outputs": [
        {
          "output_type": "stream",
          "name": "stdout",
          "text": [
            "['Non-Fiction', 'Technology']\n",
            "{'lastname': 'Smith', 'firstname': 'Jane'}\n"
          ]
        }
      ],
      "source": [
        "# Enter your code here\n",
        "\n",
        "# 6.\n",
        "my_dict = {\n",
        "    \"isbn\": \"123-456-222\",\n",
        "    \"author\": {\"lastname\": \"Doe\", \"firstname\": \"Jane\"},\n",
        "    \"editor\": {\"lastname\": \"Smith\", \"firstname\": \"Jane\"},\n",
        "    \"title\": \"The Ultimate Database Study Guide\",\n",
        "    \"category\": [\"Non-Fiction\", \"Technology\"],\n",
        "}\n",
        "\n",
        "print(my_dict[\"category\"])\n",
        "print(my_dict[\"editor\"])\n"
      ]
    },
    {
      "cell_type": "code",
      "execution_count": null,
      "id": "1d86401d-74e3-4f10-b30c-d4411f0ae05b",
      "metadata": {
        "scrolled": true,
        "id": "1d86401d-74e3-4f10-b30c-d4411f0ae05b"
      },
      "outputs": [],
      "source": []
    }
  ],
  "metadata": {
    "kernelspec": {
      "display_name": "ds_personal",
      "language": "python",
      "name": "ds_personal"
    },
    "language_info": {
      "codemirror_mode": {
        "name": "ipython",
        "version": 3
      },
      "file_extension": ".py",
      "mimetype": "text/x-python",
      "name": "python",
      "nbconvert_exporter": "python",
      "pygments_lexer": "ipython3",
      "version": "3.10.0"
    },
    "colab": {
      "provenance": [],
      "collapsed_sections": [],
      "include_colab_link": true
    }
  },
  "nbformat": 4,
  "nbformat_minor": 5
}